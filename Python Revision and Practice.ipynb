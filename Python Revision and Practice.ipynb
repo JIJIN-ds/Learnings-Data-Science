{
 "cells": [
  {
   "cell_type": "markdown",
   "id": "c2101d27",
   "metadata": {},
   "source": [
    "# Basic learnings and practice of Python codes covering mostly all the topics"
   ]
  },
  {
   "cell_type": "code",
   "execution_count": 1,
   "id": "29570f08",
   "metadata": {},
   "outputs": [
    {
     "data": {
      "text/plain": [
       "10.0"
      ]
     },
     "execution_count": 1,
     "metadata": {},
     "output_type": "execute_result"
    }
   ],
   "source": [
    "#Basic operations\n",
    "10/1"
   ]
  },
  {
   "cell_type": "code",
   "execution_count": 2,
   "id": "1ce7db58",
   "metadata": {},
   "outputs": [
    {
     "data": {
      "text/plain": [
       "5.0"
      ]
     },
     "execution_count": 2,
     "metadata": {},
     "output_type": "execute_result"
    }
   ],
   "source": [
    "10/2"
   ]
  },
  {
   "cell_type": "code",
   "execution_count": 3,
   "id": "803bd0b2",
   "metadata": {},
   "outputs": [
    {
     "data": {
      "text/plain": [
       "5"
      ]
     },
     "execution_count": 3,
     "metadata": {},
     "output_type": "execute_result"
    }
   ],
   "source": [
    "10//2"
   ]
  },
  {
   "cell_type": "code",
   "execution_count": 4,
   "id": "b1c4a6d5",
   "metadata": {},
   "outputs": [
    {
     "data": {
      "text/plain": [
       "0"
      ]
     },
     "execution_count": 4,
     "metadata": {},
     "output_type": "execute_result"
    }
   ],
   "source": [
    "10%2"
   ]
  },
  {
   "cell_type": "code",
   "execution_count": 6,
   "id": "8363f0fa",
   "metadata": {},
   "outputs": [
    {
     "name": "stdout",
     "output_type": "stream",
     "text": [
      "my name is jijin\n"
     ]
    }
   ],
   "source": [
    "print(\"my name is jijin\")"
   ]
  },
  {
   "cell_type": "code",
   "execution_count": 7,
   "id": "575d9dab",
   "metadata": {},
   "outputs": [],
   "source": [
    "import pandas as pd \n",
    "import numpy as np"
   ]
  },
  {
   "cell_type": "code",
   "execution_count": 8,
   "id": "6d446793",
   "metadata": {},
   "outputs": [],
   "source": [
    "data=1+2+3"
   ]
  },
  {
   "cell_type": "code",
   "execution_count": 9,
   "id": "a6c3a29f",
   "metadata": {},
   "outputs": [
    {
     "data": {
      "text/plain": [
       "6"
      ]
     },
     "execution_count": 9,
     "metadata": {},
     "output_type": "execute_result"
    }
   ],
   "source": [
    "data"
   ]
  },
  {
   "cell_type": "code",
   "execution_count": 10,
   "id": "2bc1a0e9",
   "metadata": {},
   "outputs": [
    {
     "data": {
      "text/plain": [
       "True"
      ]
     },
     "execution_count": 10,
     "metadata": {},
     "output_type": "execute_result"
    }
   ],
   "source": [
    "data==6"
   ]
  },
  {
   "cell_type": "code",
   "execution_count": 11,
   "id": "e9d8f13f",
   "metadata": {},
   "outputs": [],
   "source": [
    "data1= pd.read_csv(\"testfile.csv\")"
   ]
  },
  {
   "cell_type": "code",
   "execution_count": 12,
   "id": "970a5f42",
   "metadata": {},
   "outputs": [
    {
     "data": {
      "text/html": [
       "<div>\n",
       "<style scoped>\n",
       "    .dataframe tbody tr th:only-of-type {\n",
       "        vertical-align: middle;\n",
       "    }\n",
       "\n",
       "    .dataframe tbody tr th {\n",
       "        vertical-align: top;\n",
       "    }\n",
       "\n",
       "    .dataframe thead th {\n",
       "        text-align: right;\n",
       "    }\n",
       "</style>\n",
       "<table border=\"1\" class=\"dataframe\">\n",
       "  <thead>\n",
       "    <tr style=\"text-align: right;\">\n",
       "      <th></th>\n",
       "      <th>Hi</th>\n",
       "      <th>This is just a testing file</th>\n",
       "    </tr>\n",
       "  </thead>\n",
       "  <tbody>\n",
       "  </tbody>\n",
       "</table>\n",
       "</div>"
      ],
      "text/plain": [
       "Empty DataFrame\n",
       "Columns: [Hi,  This is just a testing file]\n",
       "Index: []"
      ]
     },
     "execution_count": 12,
     "metadata": {},
     "output_type": "execute_result"
    }
   ],
   "source": [
    "data1"
   ]
  },
  {
   "cell_type": "code",
   "execution_count": 13,
   "id": "2cc835b1",
   "metadata": {},
   "outputs": [
    {
     "name": "stdout",
     "output_type": "stream",
     "text": [
      "Hello 101\n"
     ]
    }
   ],
   "source": [
    "print(\"Hello 101\")"
   ]
  },
  {
   "cell_type": "code",
   "execution_count": 14,
   "id": "486bd829",
   "metadata": {},
   "outputs": [],
   "source": [
    "#print(\"Hello 101\")"
   ]
  },
  {
   "cell_type": "code",
   "execution_count": 16,
   "id": "2125238b",
   "metadata": {},
   "outputs": [
    {
     "ename": "NameError",
     "evalue": "name 'frint' is not defined",
     "output_type": "error",
     "traceback": [
      "\u001b[1;31m---------------------------------------------------------------------------\u001b[0m",
      "\u001b[1;31mNameError\u001b[0m                                 Traceback (most recent call last)",
      "\u001b[1;32m<ipython-input-16-43c403521744>\u001b[0m in \u001b[0;36m<module>\u001b[1;34m\u001b[0m\n\u001b[1;32m----> 1\u001b[1;33m \u001b[0mfrint\u001b[0m\u001b[1;33m(\u001b[0m\u001b[1;34m\"hello 101\"\u001b[0m\u001b[1;33m)\u001b[0m\u001b[1;33m\u001b[0m\u001b[1;33m\u001b[0m\u001b[0m\n\u001b[0m",
      "\u001b[1;31mNameError\u001b[0m: name 'frint' is not defined"
     ]
    }
   ],
   "source": [
    "frint(\"hello 101\")"
   ]
  },
  {
   "cell_type": "code",
   "execution_count": 17,
   "id": "643b864f",
   "metadata": {},
   "outputs": [
    {
     "data": {
      "text/plain": [
       "2.0"
      ]
     },
     "execution_count": 17,
     "metadata": {},
     "output_type": "execute_result"
    }
   ],
   "source": [
    "float(2)"
   ]
  },
  {
   "cell_type": "code",
   "execution_count": 18,
   "id": "5e00d87d",
   "metadata": {},
   "outputs": [
    {
     "data": {
      "text/plain": [
       "float"
      ]
     },
     "execution_count": 18,
     "metadata": {},
     "output_type": "execute_result"
    }
   ],
   "source": [
    "type(1.1)"
   ]
  },
  {
   "cell_type": "code",
   "execution_count": 19,
   "id": "34e3835a",
   "metadata": {},
   "outputs": [
    {
     "data": {
      "text/plain": [
       "1"
      ]
     },
     "execution_count": 19,
     "metadata": {},
     "output_type": "execute_result"
    }
   ],
   "source": [
    "int(1.1)"
   ]
  },
  {
   "cell_type": "code",
   "execution_count": 20,
   "id": "c2adf7b2",
   "metadata": {},
   "outputs": [
    {
     "data": {
      "text/plain": [
       "1"
      ]
     },
     "execution_count": 20,
     "metadata": {},
     "output_type": "execute_result"
    }
   ],
   "source": [
    "int('1')"
   ]
  },
  {
   "cell_type": "code",
   "execution_count": 21,
   "id": "efa1c888",
   "metadata": {},
   "outputs": [
    {
     "ename": "ValueError",
     "evalue": "invalid literal for int() with base 10: 'A'",
     "output_type": "error",
     "traceback": [
      "\u001b[1;31m---------------------------------------------------------------------------\u001b[0m",
      "\u001b[1;31mValueError\u001b[0m                                Traceback (most recent call last)",
      "\u001b[1;32m<ipython-input-21-58e5992d18f7>\u001b[0m in \u001b[0;36m<module>\u001b[1;34m\u001b[0m\n\u001b[1;32m----> 1\u001b[1;33m \u001b[0mint\u001b[0m\u001b[1;33m(\u001b[0m\u001b[1;34m'A'\u001b[0m\u001b[1;33m)\u001b[0m\u001b[1;33m\u001b[0m\u001b[1;33m\u001b[0m\u001b[0m\n\u001b[0m",
      "\u001b[1;31mValueError\u001b[0m: invalid literal for int() with base 10: 'A'"
     ]
    }
   ],
   "source": [
    "int('A')"
   ]
  },
  {
   "cell_type": "code",
   "execution_count": 23,
   "id": "26a2fb39",
   "metadata": {},
   "outputs": [
    {
     "data": {
      "text/plain": [
       "'1'"
      ]
     },
     "execution_count": 23,
     "metadata": {},
     "output_type": "execute_result"
    }
   ],
   "source": [
    "str(1)"
   ]
  },
  {
   "cell_type": "code",
   "execution_count": 24,
   "id": "8e5cc018",
   "metadata": {},
   "outputs": [
    {
     "data": {
      "text/plain": [
       "False"
      ]
     },
     "execution_count": 24,
     "metadata": {},
     "output_type": "execute_result"
    }
   ],
   "source": [
    "a=7\n",
    "a==8"
   ]
  },
  {
   "cell_type": "code",
   "execution_count": 25,
   "id": "144f34d4",
   "metadata": {},
   "outputs": [
    {
     "data": {
      "text/plain": [
       "bool"
      ]
     },
     "execution_count": 25,
     "metadata": {},
     "output_type": "execute_result"
    }
   ],
   "source": [
    "type(False)"
   ]
  },
  {
   "cell_type": "code",
   "execution_count": 26,
   "id": "ce415e79",
   "metadata": {},
   "outputs": [],
   "source": [
    "my_var =1"
   ]
  },
  {
   "cell_type": "code",
   "execution_count": 27,
   "id": "bee36597",
   "metadata": {},
   "outputs": [
    {
     "data": {
      "text/plain": [
       "1"
      ]
     },
     "execution_count": 27,
     "metadata": {},
     "output_type": "execute_result"
    }
   ],
   "source": [
    "my_var"
   ]
  },
  {
   "cell_type": "code",
   "execution_count": 28,
   "id": "fabff00d",
   "metadata": {},
   "outputs": [],
   "source": [
    "my_variable:1"
   ]
  },
  {
   "cell_type": "code",
   "execution_count": 29,
   "id": "9001ce7e",
   "metadata": {},
   "outputs": [
    {
     "ename": "NameError",
     "evalue": "name 'my_variable' is not defined",
     "output_type": "error",
     "traceback": [
      "\u001b[1;31m---------------------------------------------------------------------------\u001b[0m",
      "\u001b[1;31mNameError\u001b[0m                                 Traceback (most recent call last)",
      "\u001b[1;32m<ipython-input-29-75dc0442333b>\u001b[0m in \u001b[0;36m<module>\u001b[1;34m\u001b[0m\n\u001b[1;32m----> 1\u001b[1;33m \u001b[0mmy_variable\u001b[0m\u001b[1;33m\u001b[0m\u001b[1;33m\u001b[0m\u001b[0m\n\u001b[0m",
      "\u001b[1;31mNameError\u001b[0m: name 'my_variable' is not defined"
     ]
    }
   ],
   "source": [
    "my_variable"
   ]
  },
  {
   "cell_type": "code",
   "execution_count": 31,
   "id": "e4996d2c",
   "metadata": {},
   "outputs": [],
   "source": [
    "v=(43+42)/60"
   ]
  },
  {
   "cell_type": "code",
   "execution_count": 32,
   "id": "f4cd3445",
   "metadata": {},
   "outputs": [
    {
     "data": {
      "text/plain": [
       "1.4166666666666667"
      ]
     },
     "execution_count": 32,
     "metadata": {},
     "output_type": "execute_result"
    }
   ],
   "source": [
    "v"
   ]
  },
  {
   "cell_type": "code",
   "execution_count": 33,
   "id": "4b3bd9eb",
   "metadata": {},
   "outputs": [
    {
     "data": {
      "text/plain": [
       "1"
      ]
     },
     "execution_count": 33,
     "metadata": {},
     "output_type": "execute_result"
    }
   ],
   "source": [
    "int(v)"
   ]
  },
  {
   "cell_type": "code",
   "execution_count": 34,
   "id": "d02d41ec",
   "metadata": {},
   "outputs": [],
   "source": [
    "Name = \"Michael Jackson\""
   ]
  },
  {
   "cell_type": "code",
   "execution_count": 35,
   "id": "864d54c9",
   "metadata": {},
   "outputs": [
    {
     "data": {
      "text/plain": [
       "'Mi'"
      ]
     },
     "execution_count": 35,
     "metadata": {},
     "output_type": "execute_result"
    }
   ],
   "source": [
    "Name[0:2]"
   ]
  },
  {
   "cell_type": "code",
   "execution_count": 36,
   "id": "c8f90382",
   "metadata": {},
   "outputs": [
    {
     "data": {
      "text/plain": [
       "' Jackson'"
      ]
     },
     "execution_count": 36,
     "metadata": {},
     "output_type": "execute_result"
    }
   ],
   "source": [
    "Name[7:]"
   ]
  },
  {
   "cell_type": "code",
   "execution_count": 37,
   "id": "4aa4908c",
   "metadata": {},
   "outputs": [
    {
     "data": {
      "text/plain": [
       "'o'"
      ]
     },
     "execution_count": 37,
     "metadata": {},
     "output_type": "execute_result"
    }
   ],
   "source": [
    "Name[13]"
   ]
  },
  {
   "cell_type": "code",
   "execution_count": 38,
   "id": "576001da",
   "metadata": {},
   "outputs": [
    {
     "data": {
      "text/plain": [
       "'n'"
      ]
     },
     "execution_count": 38,
     "metadata": {},
     "output_type": "execute_result"
    }
   ],
   "source": [
    "Name[-1:]"
   ]
  },
  {
   "cell_type": "code",
   "execution_count": 39,
   "id": "71e104da",
   "metadata": {},
   "outputs": [
    {
     "data": {
      "text/plain": [
       "'Michael Jackso'"
      ]
     },
     "execution_count": 39,
     "metadata": {},
     "output_type": "execute_result"
    }
   ],
   "source": [
    "Name[:-1]"
   ]
  },
  {
   "cell_type": "code",
   "execution_count": 40,
   "id": "ba7284bb",
   "metadata": {},
   "outputs": [
    {
     "data": {
      "text/plain": [
       "'McalJcsn'"
      ]
     },
     "execution_count": 40,
     "metadata": {},
     "output_type": "execute_result"
    }
   ],
   "source": [
    "Name[::2]"
   ]
  },
  {
   "cell_type": "code",
   "execution_count": 41,
   "id": "f2f33708",
   "metadata": {},
   "outputs": [
    {
     "data": {
      "text/plain": [
       "15"
      ]
     },
     "execution_count": 41,
     "metadata": {},
     "output_type": "execute_result"
    }
   ],
   "source": [
    "len(Name)"
   ]
  },
  {
   "cell_type": "code",
   "execution_count": 42,
   "id": "19bccf12",
   "metadata": {},
   "outputs": [],
   "source": [
    "Statement = Name + \" IS THE BEST DANCER\""
   ]
  },
  {
   "cell_type": "code",
   "execution_count": 43,
   "id": "f1dc6c59",
   "metadata": {},
   "outputs": [
    {
     "data": {
      "text/plain": [
       "'Michael Jackson IS THE BEST DANCER'"
      ]
     },
     "execution_count": 43,
     "metadata": {},
     "output_type": "execute_result"
    }
   ],
   "source": [
    "Statement"
   ]
  },
  {
   "cell_type": "code",
   "execution_count": 45,
   "id": "4094df8d",
   "metadata": {},
   "outputs": [
    {
     "data": {
      "text/plain": [
       "'Michael JacksonMichael JacksonMichael Jackson'"
      ]
     },
     "execution_count": 45,
     "metadata": {},
     "output_type": "execute_result"
    }
   ],
   "source": [
    "3*Name"
   ]
  },
  {
   "cell_type": "code",
   "execution_count": 47,
   "id": "9c6efd67",
   "metadata": {},
   "outputs": [
    {
     "ename": "TypeError",
     "evalue": "'str' object does not support item assignment",
     "output_type": "error",
     "traceback": [
      "\u001b[1;31m---------------------------------------------------------------------------\u001b[0m",
      "\u001b[1;31mTypeError\u001b[0m                                 Traceback (most recent call last)",
      "\u001b[1;32m<ipython-input-47-ad36888433fd>\u001b[0m in \u001b[0;36m<module>\u001b[1;34m\u001b[0m\n\u001b[1;32m----> 1\u001b[1;33m \u001b[0mName\u001b[0m\u001b[1;33m[\u001b[0m\u001b[1;36m6\u001b[0m\u001b[1;33m]\u001b[0m\u001b[1;33m=\u001b[0m\u001b[1;34m'j'\u001b[0m\u001b[1;33m\u001b[0m\u001b[1;33m\u001b[0m\u001b[0m\n\u001b[0m",
      "\u001b[1;31mTypeError\u001b[0m: 'str' object does not support item assignment"
     ]
    }
   ],
   "source": [
    "Name[6]='j'"
   ]
  },
  {
   "cell_type": "code",
   "execution_count": 48,
   "id": "4590b28e",
   "metadata": {},
   "outputs": [
    {
     "name": "stdout",
     "output_type": "stream",
     "text": [
      "MJ \n",
      " is the best\n"
     ]
    }
   ],
   "source": [
    "print(\"MJ \\n is the best\")"
   ]
  },
  {
   "cell_type": "code",
   "execution_count": 49,
   "id": "6dcfbd4a",
   "metadata": {},
   "outputs": [
    {
     "name": "stdout",
     "output_type": "stream",
     "text": [
      "MJ is \\n the best \n"
     ]
    }
   ],
   "source": [
    "print(r\"MJ is \\n the best \")"
   ]
  },
  {
   "cell_type": "code",
   "execution_count": 50,
   "id": "37ae5f09",
   "metadata": {},
   "outputs": [
    {
     "name": "stdout",
     "output_type": "stream",
     "text": [
      "MJ is \\n the best\n"
     ]
    }
   ],
   "source": [
    "print(\"MJ is \\\\n the best\")"
   ]
  },
  {
   "cell_type": "code",
   "execution_count": 51,
   "id": "e2b0c28b",
   "metadata": {},
   "outputs": [],
   "source": [
    "A=\"Water\"\n",
    "B=\"WATER\""
   ]
  },
  {
   "cell_type": "code",
   "execution_count": 52,
   "id": "6cdce584",
   "metadata": {},
   "outputs": [],
   "source": [
    "B=A.upper()"
   ]
  },
  {
   "cell_type": "code",
   "execution_count": 53,
   "id": "311499e7",
   "metadata": {},
   "outputs": [
    {
     "data": {
      "text/plain": [
       "'WATER'"
      ]
     },
     "execution_count": 53,
     "metadata": {},
     "output_type": "execute_result"
    }
   ],
   "source": [
    "B"
   ]
  },
  {
   "cell_type": "code",
   "execution_count": 54,
   "id": "80017f4b",
   "metadata": {},
   "outputs": [],
   "source": [
    "A=B.lower()"
   ]
  },
  {
   "cell_type": "code",
   "execution_count": 55,
   "id": "53129041",
   "metadata": {},
   "outputs": [
    {
     "data": {
      "text/plain": [
       "'water'"
      ]
     },
     "execution_count": 55,
     "metadata": {},
     "output_type": "execute_result"
    }
   ],
   "source": [
    "A"
   ]
  },
  {
   "cell_type": "code",
   "execution_count": 56,
   "id": "221168a3",
   "metadata": {},
   "outputs": [],
   "source": [
    "A=\"MICHAEL JACKSON\""
   ]
  },
  {
   "cell_type": "code",
   "execution_count": 59,
   "id": "7d554e83",
   "metadata": {},
   "outputs": [],
   "source": [
    "B= A.replace(\"JACKSON\",\"Jijin\")"
   ]
  },
  {
   "cell_type": "code",
   "execution_count": 60,
   "id": "2a828a24",
   "metadata": {},
   "outputs": [
    {
     "data": {
      "text/plain": [
       "'MICHAEL Jijin'"
      ]
     },
     "execution_count": 60,
     "metadata": {},
     "output_type": "execute_result"
    }
   ],
   "source": [
    "B"
   ]
  },
  {
   "cell_type": "code",
   "execution_count": 61,
   "id": "28637c10",
   "metadata": {},
   "outputs": [
    {
     "data": {
      "text/plain": [
       "10"
      ]
     },
     "execution_count": 61,
     "metadata": {},
     "output_type": "execute_result"
    }
   ],
   "source": [
    "B.find(\"jin\")"
   ]
  },
  {
   "cell_type": "code",
   "execution_count": 65,
   "id": "95f7ea7d",
   "metadata": {},
   "outputs": [
    {
     "data": {
      "text/plain": [
       "'jin'"
      ]
     },
     "execution_count": 65,
     "metadata": {},
     "output_type": "execute_result"
    }
   ],
   "source": [
    "B[10:]"
   ]
  },
  {
   "cell_type": "code",
   "execution_count": 66,
   "id": "f79fa964",
   "metadata": {},
   "outputs": [
    {
     "data": {
      "text/plain": [
       "-1"
      ]
     },
     "execution_count": 66,
     "metadata": {},
     "output_type": "execute_result"
    }
   ],
   "source": [
    "B.find('ze')"
   ]
  },
  {
   "cell_type": "code",
   "execution_count": 67,
   "id": "a30a34ad",
   "metadata": {},
   "outputs": [
    {
     "data": {
      "text/plain": [
       "13"
      ]
     },
     "execution_count": 67,
     "metadata": {},
     "output_type": "execute_result"
    }
   ],
   "source": [
    "len(B)"
   ]
  },
  {
   "cell_type": "code",
   "execution_count": 68,
   "id": "1455d536",
   "metadata": {},
   "outputs": [],
   "source": [
    "tuple1 = (\"disco\",1.2,10)"
   ]
  },
  {
   "cell_type": "code",
   "execution_count": 69,
   "id": "4964fc64",
   "metadata": {},
   "outputs": [
    {
     "data": {
      "text/plain": [
       "tuple"
      ]
     },
     "execution_count": 69,
     "metadata": {},
     "output_type": "execute_result"
    }
   ],
   "source": [
    "type(tuple1)"
   ]
  },
  {
   "cell_type": "code",
   "execution_count": 70,
   "id": "dbfd84b8",
   "metadata": {},
   "outputs": [],
   "source": [
    "tuple2 = tuple1 + (\"hard rock\",18)"
   ]
  },
  {
   "cell_type": "code",
   "execution_count": 71,
   "id": "bcfc879f",
   "metadata": {},
   "outputs": [
    {
     "data": {
      "text/plain": [
       "('disco', 1.2, 10, 'hard rock', 18)"
      ]
     },
     "execution_count": 71,
     "metadata": {},
     "output_type": "execute_result"
    }
   ],
   "source": [
    "tuple2"
   ]
  },
  {
   "cell_type": "code",
   "execution_count": 72,
   "id": "657f1460",
   "metadata": {},
   "outputs": [
    {
     "data": {
      "text/plain": [
       "('hard rock', 18)"
      ]
     },
     "execution_count": 72,
     "metadata": {},
     "output_type": "execute_result"
    }
   ],
   "source": [
    "tuple2[3:5]"
   ]
  },
  {
   "cell_type": "code",
   "execution_count": 73,
   "id": "26659581",
   "metadata": {},
   "outputs": [],
   "source": [
    "Ratings = (10,9,6,5,10,8,9,6,3)"
   ]
  },
  {
   "cell_type": "code",
   "execution_count": 76,
   "id": "6f378bc8",
   "metadata": {},
   "outputs": [],
   "source": [
    "Ratings1=Ratings\n",
    "Ratings= sorted(Ratings)"
   ]
  },
  {
   "cell_type": "code",
   "execution_count": 77,
   "id": "bc4f3ff7",
   "metadata": {},
   "outputs": [
    {
     "data": {
      "text/plain": [
       "[3, 5, 6, 6, 8, 9, 9, 10, 10]"
      ]
     },
     "execution_count": 77,
     "metadata": {},
     "output_type": "execute_result"
    }
   ],
   "source": [
    "Ratings"
   ]
  },
  {
   "cell_type": "code",
   "execution_count": 78,
   "id": "18cce458",
   "metadata": {},
   "outputs": [
    {
     "data": {
      "text/plain": [
       "(10, 9, 6, 5, 10, 8, 9, 6, 3)"
      ]
     },
     "execution_count": 78,
     "metadata": {},
     "output_type": "execute_result"
    }
   ],
   "source": [
    "Ratings1"
   ]
  },
  {
   "cell_type": "code",
   "execution_count": 79,
   "id": "b7939d80",
   "metadata": {},
   "outputs": [],
   "source": [
    "Nt=(1,2,(\"POP\",\"rock\"),(3,4),(\"DISCO\",(1,2)))"
   ]
  },
  {
   "cell_type": "code",
   "execution_count": 82,
   "id": "093ad0a5",
   "metadata": {},
   "outputs": [
    {
     "data": {
      "text/plain": [
       "2"
      ]
     },
     "execution_count": 82,
     "metadata": {},
     "output_type": "execute_result"
    }
   ],
   "source": [
    "Nt[4][1][1]"
   ]
  },
  {
   "cell_type": "code",
   "execution_count": 83,
   "id": "47d0226c",
   "metadata": {},
   "outputs": [
    {
     "data": {
      "text/plain": [
       "('POP', 'rock')"
      ]
     },
     "execution_count": 83,
     "metadata": {},
     "output_type": "execute_result"
    }
   ],
   "source": [
    "Nt[2]"
   ]
  },
  {
   "cell_type": "code",
   "execution_count": 84,
   "id": "cdaca88b",
   "metadata": {},
   "outputs": [
    {
     "ename": "TypeError",
     "evalue": "'tuple' object does not support item assignment",
     "output_type": "error",
     "traceback": [
      "\u001b[1;31m---------------------------------------------------------------------------\u001b[0m",
      "\u001b[1;31mTypeError\u001b[0m                                 Traceback (most recent call last)",
      "\u001b[1;32m<ipython-input-84-505bbff61433>\u001b[0m in \u001b[0;36m<module>\u001b[1;34m\u001b[0m\n\u001b[1;32m----> 1\u001b[1;33m \u001b[0mNt\u001b[0m\u001b[1;33m[\u001b[0m\u001b[1;36m2\u001b[0m\u001b[1;33m]\u001b[0m\u001b[1;33m=\u001b[0m\u001b[1;33m(\u001b[0m\u001b[1;34m\"noy\"\u001b[0m\u001b[1;33m,\u001b[0m\u001b[1;34m\"love\"\u001b[0m\u001b[1;33m)\u001b[0m\u001b[1;33m\u001b[0m\u001b[1;33m\u001b[0m\u001b[0m\n\u001b[0m",
      "\u001b[1;31mTypeError\u001b[0m: 'tuple' object does not support item assignment"
     ]
    }
   ],
   "source": [
    "Nt[2]=(\"noy\",\"love\")"
   ]
  },
  {
   "cell_type": "code",
   "execution_count": 85,
   "id": "1fab54ea",
   "metadata": {},
   "outputs": [],
   "source": [
    "L=[\"Michael Jackson\",10.1,1982]"
   ]
  },
  {
   "cell_type": "code",
   "execution_count": 86,
   "id": "306eaa7a",
   "metadata": {},
   "outputs": [
    {
     "data": {
      "text/plain": [
       "list"
      ]
     },
     "execution_count": 86,
     "metadata": {},
     "output_type": "execute_result"
    }
   ],
   "source": [
    "type(L)"
   ]
  },
  {
   "cell_type": "code",
   "execution_count": 87,
   "id": "6e313ba5",
   "metadata": {},
   "outputs": [],
   "source": [
    "L.extend([\"POP\",19])"
   ]
  },
  {
   "cell_type": "code",
   "execution_count": 88,
   "id": "c4e60285",
   "metadata": {},
   "outputs": [
    {
     "data": {
      "text/plain": [
       "['Michael Jackson', 10.1, 1982, 'POP', 19]"
      ]
     },
     "execution_count": 88,
     "metadata": {},
     "output_type": "execute_result"
    }
   ],
   "source": [
    "L"
   ]
  },
  {
   "cell_type": "code",
   "execution_count": 89,
   "id": "abe98db7",
   "metadata": {},
   "outputs": [],
   "source": [
    "H= L + [\"KING\",\"JOCKER\"]"
   ]
  },
  {
   "cell_type": "code",
   "execution_count": 90,
   "id": "373f9046",
   "metadata": {},
   "outputs": [
    {
     "data": {
      "text/plain": [
       "['Michael Jackson', 10.1, 1982, 'POP', 19, 'KING', 'JOCKER']"
      ]
     },
     "execution_count": 90,
     "metadata": {},
     "output_type": "execute_result"
    }
   ],
   "source": [
    "H"
   ]
  },
  {
   "cell_type": "code",
   "execution_count": 110,
   "id": "a06fe363",
   "metadata": {},
   "outputs": [],
   "source": [
    "A=[\"Disco\",1.2,10]"
   ]
  },
  {
   "cell_type": "code",
   "execution_count": 111,
   "id": "3e2331ff",
   "metadata": {},
   "outputs": [],
   "source": [
    "A[0]=\"Hard rock\""
   ]
  },
  {
   "cell_type": "code",
   "execution_count": 112,
   "id": "a80a7217",
   "metadata": {},
   "outputs": [
    {
     "data": {
      "text/plain": [
       "['Hard rock', 1.2, 10]"
      ]
     },
     "execution_count": 112,
     "metadata": {},
     "output_type": "execute_result"
    }
   ],
   "source": [
    "A"
   ]
  },
  {
   "cell_type": "code",
   "execution_count": 113,
   "id": "8793a937",
   "metadata": {},
   "outputs": [],
   "source": [
    "del(A[0])"
   ]
  },
  {
   "cell_type": "code",
   "execution_count": 114,
   "id": "7c19abae",
   "metadata": {},
   "outputs": [
    {
     "data": {
      "text/plain": [
       "[1.2, 10]"
      ]
     },
     "execution_count": 114,
     "metadata": {},
     "output_type": "execute_result"
    }
   ],
   "source": [
    "A"
   ]
  },
  {
   "cell_type": "code",
   "execution_count": 115,
   "id": "23d44a45",
   "metadata": {},
   "outputs": [
    {
     "data": {
      "text/plain": [
       "['Jijin', 'is', 'a', 'good', 'boy']"
      ]
     },
     "execution_count": 115,
     "metadata": {},
     "output_type": "execute_result"
    }
   ],
   "source": [
    "\"Jijin is a good boy\".split()"
   ]
  },
  {
   "cell_type": "code",
   "execution_count": 117,
   "id": "f2cd5076",
   "metadata": {},
   "outputs": [],
   "source": [
    "B=A\n",
    "A[0]=\"Hardwork\""
   ]
  },
  {
   "cell_type": "code",
   "execution_count": 118,
   "id": "9f406964",
   "metadata": {},
   "outputs": [
    {
     "data": {
      "text/plain": [
       "['Hardwork', 10]"
      ]
     },
     "execution_count": 118,
     "metadata": {},
     "output_type": "execute_result"
    }
   ],
   "source": [
    "B"
   ]
  },
  {
   "cell_type": "code",
   "execution_count": 119,
   "id": "6e7270c7",
   "metadata": {},
   "outputs": [],
   "source": [
    "B=A[:]\n",
    "A[0]=\"Banana\""
   ]
  },
  {
   "cell_type": "code",
   "execution_count": 120,
   "id": "ee9858cb",
   "metadata": {},
   "outputs": [
    {
     "data": {
      "text/plain": [
       "['Hardwork', 10]"
      ]
     },
     "execution_count": 120,
     "metadata": {},
     "output_type": "execute_result"
    }
   ],
   "source": [
    "B"
   ]
  },
  {
   "cell_type": "code",
   "execution_count": 121,
   "id": "9e1aa018",
   "metadata": {},
   "outputs": [
    {
     "data": {
      "text/plain": [
       "['Banana', 10]"
      ]
     },
     "execution_count": 121,
     "metadata": {},
     "output_type": "execute_result"
    }
   ],
   "source": [
    "A"
   ]
  },
  {
   "cell_type": "code",
   "execution_count": 122,
   "id": "c371e0c6",
   "metadata": {},
   "outputs": [
    {
     "name": "stdout",
     "output_type": "stream",
     "text": [
      "What is your nameJIJIN\n"
     ]
    }
   ],
   "source": [
    "name=input(\"What is your name\")"
   ]
  },
  {
   "cell_type": "code",
   "execution_count": 123,
   "id": "2cbf8a62",
   "metadata": {},
   "outputs": [
    {
     "data": {
      "text/plain": [
       "'JIJIN'"
      ]
     },
     "execution_count": 123,
     "metadata": {},
     "output_type": "execute_result"
    }
   ],
   "source": [
    "name"
   ]
  },
  {
   "cell_type": "code",
   "execution_count": 1,
   "id": "766eea28",
   "metadata": {},
   "outputs": [
    {
     "name": "stdout",
     "output_type": "stream",
     "text": [
      "Enter length = 15\n",
      "Enter Breadth = 12\n",
      "The area of rectangle for given length and breadth is  180\n"
     ]
    }
   ],
   "source": [
    "x=int(input(\"Enter length = \"))\n",
    "y=int(input(\"Enter Breadth = \"))\n",
    "z=x*y\n",
    "print(\"The area of rectangle for given length and breadth is \",z)"
   ]
  },
  {
   "cell_type": "code",
   "execution_count": 2,
   "id": "b557147d",
   "metadata": {},
   "outputs": [],
   "source": [
    "str_list=[\"apple\",\"orange\",\"grapes\",\"guava\",112,32,21]"
   ]
  },
  {
   "cell_type": "code",
   "execution_count": 3,
   "id": "e65d3c4b",
   "metadata": {},
   "outputs": [],
   "source": [
    "str_list.append(\"water\")"
   ]
  },
  {
   "cell_type": "code",
   "execution_count": 4,
   "id": "c6fa4bae",
   "metadata": {},
   "outputs": [
    {
     "data": {
      "text/plain": [
       "['apple', 'orange', 'grapes', 'guava', 112, 32, 21, 'water']"
      ]
     },
     "execution_count": 4,
     "metadata": {},
     "output_type": "execute_result"
    }
   ],
   "source": [
    "str_list"
   ]
  },
  {
   "cell_type": "code",
   "execution_count": 5,
   "id": "7ca65a99",
   "metadata": {},
   "outputs": [
    {
     "data": {
      "text/plain": [
       "'water'"
      ]
     },
     "execution_count": 5,
     "metadata": {},
     "output_type": "execute_result"
    }
   ],
   "source": [
    "str_list.pop()"
   ]
  },
  {
   "cell_type": "code",
   "execution_count": 6,
   "id": "1333f4a8",
   "metadata": {},
   "outputs": [
    {
     "data": {
      "text/plain": [
       "['apple', 'orange', 'grapes', 'guava', 112, 32, 21]"
      ]
     },
     "execution_count": 6,
     "metadata": {},
     "output_type": "execute_result"
    }
   ],
   "source": [
    "str_list"
   ]
  },
  {
   "cell_type": "code",
   "execution_count": 7,
   "id": "23389c0d",
   "metadata": {},
   "outputs": [
    {
     "data": {
      "text/plain": [
       "'orange'"
      ]
     },
     "execution_count": 7,
     "metadata": {},
     "output_type": "execute_result"
    }
   ],
   "source": [
    "str_list.pop(1)"
   ]
  },
  {
   "cell_type": "code",
   "execution_count": 8,
   "id": "7c3dc99a",
   "metadata": {},
   "outputs": [
    {
     "data": {
      "text/plain": [
       "['apple', 'grapes', 'guava', 112, 32, 21]"
      ]
     },
     "execution_count": 8,
     "metadata": {},
     "output_type": "execute_result"
    }
   ],
   "source": [
    "str_list"
   ]
  },
  {
   "cell_type": "code",
   "execution_count": 9,
   "id": "0bba5898",
   "metadata": {},
   "outputs": [],
   "source": [
    "str_list.insert(1,\"jamun\")"
   ]
  },
  {
   "cell_type": "code",
   "execution_count": 10,
   "id": "d081fccd",
   "metadata": {},
   "outputs": [
    {
     "data": {
      "text/plain": [
       "['apple', 'jamun', 'grapes', 'guava', 112, 32, 21]"
      ]
     },
     "execution_count": 10,
     "metadata": {},
     "output_type": "execute_result"
    }
   ],
   "source": [
    "str_list"
   ]
  },
  {
   "cell_type": "code",
   "execution_count": 11,
   "id": "f873581f",
   "metadata": {},
   "outputs": [],
   "source": [
    "str_list.insert(4,\"eggs\")"
   ]
  },
  {
   "cell_type": "code",
   "execution_count": 12,
   "id": "7c0b3d72",
   "metadata": {},
   "outputs": [
    {
     "data": {
      "text/plain": [
       "['apple', 'jamun', 'grapes', 'guava', 'eggs', 112, 32, 21]"
      ]
     },
     "execution_count": 12,
     "metadata": {},
     "output_type": "execute_result"
    }
   ],
   "source": [
    "str_list"
   ]
  },
  {
   "cell_type": "code",
   "execution_count": 13,
   "id": "4e12a51b",
   "metadata": {},
   "outputs": [
    {
     "data": {
      "text/plain": [
       "'grapes'"
      ]
     },
     "execution_count": 13,
     "metadata": {},
     "output_type": "execute_result"
    }
   ],
   "source": [
    "str_list.pop(2)"
   ]
  },
  {
   "cell_type": "code",
   "execution_count": 14,
   "id": "0fb4ccb9",
   "metadata": {},
   "outputs": [
    {
     "data": {
      "text/plain": [
       "['apple', 'jamun', 'guava', 'eggs', 112, 32, 21]"
      ]
     },
     "execution_count": 14,
     "metadata": {},
     "output_type": "execute_result"
    }
   ],
   "source": [
    "str_list"
   ]
  },
  {
   "cell_type": "code",
   "execution_count": 15,
   "id": "7d30b779",
   "metadata": {},
   "outputs": [],
   "source": [
    "str_list.remove(112)"
   ]
  },
  {
   "cell_type": "code",
   "execution_count": 16,
   "id": "b16c909a",
   "metadata": {},
   "outputs": [
    {
     "data": {
      "text/plain": [
       "['apple', 'jamun', 'guava', 'eggs', 32, 21]"
      ]
     },
     "execution_count": 16,
     "metadata": {},
     "output_type": "execute_result"
    }
   ],
   "source": [
    "str_list"
   ]
  },
  {
   "cell_type": "code",
   "execution_count": 17,
   "id": "0f9e9ac4",
   "metadata": {},
   "outputs": [],
   "source": [
    "str_list[1]=\"cherries\""
   ]
  },
  {
   "cell_type": "code",
   "execution_count": 18,
   "id": "189cfe36",
   "metadata": {},
   "outputs": [
    {
     "data": {
      "text/plain": [
       "['apple', 'cherries', 'guava', 'eggs', 32, 21]"
      ]
     },
     "execution_count": 18,
     "metadata": {},
     "output_type": "execute_result"
    }
   ],
   "source": [
    "str_list"
   ]
  },
  {
   "cell_type": "code",
   "execution_count": 19,
   "id": "5097cc71",
   "metadata": {},
   "outputs": [],
   "source": [
    "str_list.insert(1,\"jamun\")"
   ]
  },
  {
   "cell_type": "code",
   "execution_count": 20,
   "id": "537d3d24",
   "metadata": {},
   "outputs": [
    {
     "data": {
      "text/plain": [
       "['apple', 'jamun', 'cherries', 'guava', 'eggs', 32, 21]"
      ]
     },
     "execution_count": 20,
     "metadata": {},
     "output_type": "execute_result"
    }
   ],
   "source": [
    "str_list"
   ]
  },
  {
   "cell_type": "code",
   "execution_count": 21,
   "id": "47a210b5",
   "metadata": {},
   "outputs": [],
   "source": [
    "str_list.extend([\"healthy\",\"excercise\",\"work\",\"hit\"])"
   ]
  },
  {
   "cell_type": "code",
   "execution_count": 22,
   "id": "6433d25e",
   "metadata": {},
   "outputs": [
    {
     "data": {
      "text/plain": [
       "['apple',\n",
       " 'jamun',\n",
       " 'cherries',\n",
       " 'guava',\n",
       " 'eggs',\n",
       " 32,\n",
       " 21,\n",
       " 'healthy',\n",
       " 'excercise',\n",
       " 'work',\n",
       " 'hit']"
      ]
     },
     "execution_count": 22,
     "metadata": {},
     "output_type": "execute_result"
    }
   ],
   "source": [
    "str_list"
   ]
  },
  {
   "cell_type": "code",
   "execution_count": 23,
   "id": "17d8640f",
   "metadata": {},
   "outputs": [
    {
     "data": {
      "text/plain": [
       "11"
      ]
     },
     "execution_count": 23,
     "metadata": {},
     "output_type": "execute_result"
    }
   ],
   "source": [
    "len(str_list)"
   ]
  },
  {
   "cell_type": "code",
   "execution_count": 25,
   "id": "2eda82ae",
   "metadata": {},
   "outputs": [],
   "source": [
    "str_list.clear()"
   ]
  },
  {
   "cell_type": "code",
   "execution_count": 26,
   "id": "36203d7d",
   "metadata": {},
   "outputs": [
    {
     "data": {
      "text/plain": [
       "[]"
      ]
     },
     "execution_count": 26,
     "metadata": {},
     "output_type": "execute_result"
    }
   ],
   "source": [
    "str_list"
   ]
  },
  {
   "cell_type": "code",
   "execution_count": 27,
   "id": "239770d4",
   "metadata": {},
   "outputs": [],
   "source": [
    "del str_list"
   ]
  },
  {
   "cell_type": "code",
   "execution_count": 28,
   "id": "0bd446f9",
   "metadata": {},
   "outputs": [
    {
     "ename": "NameError",
     "evalue": "name 'str_list' is not defined",
     "output_type": "error",
     "traceback": [
      "\u001b[1;31m---------------------------------------------------------------------------\u001b[0m",
      "\u001b[1;31mNameError\u001b[0m                                 Traceback (most recent call last)",
      "\u001b[1;32m<ipython-input-28-3169514fd46e>\u001b[0m in \u001b[0;36m<module>\u001b[1;34m\u001b[0m\n\u001b[1;32m----> 1\u001b[1;33m \u001b[0mstr_list\u001b[0m\u001b[1;33m\u001b[0m\u001b[1;33m\u001b[0m\u001b[0m\n\u001b[0m",
      "\u001b[1;31mNameError\u001b[0m: name 'str_list' is not defined"
     ]
    }
   ],
   "source": [
    "str_list"
   ]
  },
  {
   "cell_type": "code",
   "execution_count": 30,
   "id": "f084f958",
   "metadata": {},
   "outputs": [],
   "source": [
    "S=[32,56,21,\"fool\",\"goat\",6.5]"
   ]
  },
  {
   "cell_type": "code",
   "execution_count": 39,
   "id": "fb9a14e9",
   "metadata": {},
   "outputs": [
    {
     "data": {
      "text/plain": [
       "[6.5, 21, 32, 56]"
      ]
     },
     "execution_count": 39,
     "metadata": {},
     "output_type": "execute_result"
    }
   ],
   "source": [
    "S"
   ]
  },
  {
   "cell_type": "code",
   "execution_count": 34,
   "id": "95991a36",
   "metadata": {},
   "outputs": [],
   "source": [
    "S.remove('fool')"
   ]
  },
  {
   "cell_type": "code",
   "execution_count": 35,
   "id": "dd7e86e8",
   "metadata": {},
   "outputs": [],
   "source": [
    "S.remove('goat')"
   ]
  },
  {
   "cell_type": "code",
   "execution_count": 40,
   "id": "e1625977",
   "metadata": {},
   "outputs": [],
   "source": [
    "S.sort()"
   ]
  },
  {
   "cell_type": "code",
   "execution_count": 41,
   "id": "244bc6b6",
   "metadata": {},
   "outputs": [],
   "source": [
    "P= S.sort()"
   ]
  },
  {
   "cell_type": "code",
   "execution_count": 42,
   "id": "93e2c2cb",
   "metadata": {},
   "outputs": [],
   "source": [
    "P"
   ]
  },
  {
   "cell_type": "code",
   "execution_count": 43,
   "id": "4bfb95e4",
   "metadata": {},
   "outputs": [],
   "source": [
    "S.reverse()"
   ]
  },
  {
   "cell_type": "code",
   "execution_count": 44,
   "id": "26201fd7",
   "metadata": {},
   "outputs": [],
   "source": [
    "#Tuples"
   ]
  },
  {
   "cell_type": "code",
   "execution_count": 45,
   "id": "1b5d2d8b",
   "metadata": {},
   "outputs": [
    {
     "data": {
      "text/plain": [
       "[56, 32, 21, 6.5]"
      ]
     },
     "execution_count": 45,
     "metadata": {},
     "output_type": "execute_result"
    }
   ],
   "source": [
    "S"
   ]
  },
  {
   "cell_type": "code",
   "execution_count": 46,
   "id": "edafb188",
   "metadata": {},
   "outputs": [],
   "source": [
    "tuple1=(\"Physics\",\"Chemistry\",1997,2020)"
   ]
  },
  {
   "cell_type": "code",
   "execution_count": 47,
   "id": "a93e193d",
   "metadata": {},
   "outputs": [
    {
     "ename": "TypeError",
     "evalue": "'tuple' object does not support item assignment",
     "output_type": "error",
     "traceback": [
      "\u001b[1;31m---------------------------------------------------------------------------\u001b[0m",
      "\u001b[1;31mTypeError\u001b[0m                                 Traceback (most recent call last)",
      "\u001b[1;32m<ipython-input-47-1e15177f4c48>\u001b[0m in \u001b[0;36m<module>\u001b[1;34m\u001b[0m\n\u001b[1;32m----> 1\u001b[1;33m \u001b[0mtuple1\u001b[0m\u001b[1;33m[\u001b[0m\u001b[1;36m1\u001b[0m\u001b[1;33m]\u001b[0m\u001b[1;33m=\u001b[0m\u001b[1;34m\"JIJIN\"\u001b[0m\u001b[1;33m\u001b[0m\u001b[1;33m\u001b[0m\u001b[0m\n\u001b[0m",
      "\u001b[1;31mTypeError\u001b[0m: 'tuple' object does not support item assignment"
     ]
    }
   ],
   "source": [
    "tuple1[1]=\"JIJIN\""
   ]
  },
  {
   "cell_type": "code",
   "execution_count": 51,
   "id": "c9844bb8",
   "metadata": {},
   "outputs": [
    {
     "data": {
      "text/plain": [
       "('Physics', 'Chemistry', 1997, 2020, 'Bicycle', 'water')"
      ]
     },
     "execution_count": 51,
     "metadata": {},
     "output_type": "execute_result"
    }
   ],
   "source": [
    "tuple1+(\"Bicycle\",\"water\")"
   ]
  },
  {
   "cell_type": "code",
   "execution_count": 53,
   "id": "c60c7d67",
   "metadata": {},
   "outputs": [],
   "source": [
    "#Dictionaries\n",
    "\n",
    "a= {'s.no':'1',\"name\":\"JIJIN\",\"designation\":\"data scientist\",\"salary\":\"12.5 LPA\"}"
   ]
  },
  {
   "cell_type": "code",
   "execution_count": 54,
   "id": "5caa65de",
   "metadata": {},
   "outputs": [
    {
     "data": {
      "text/plain": [
       "dict_keys(['s.no', 'name', 'designation', 'salary'])"
      ]
     },
     "execution_count": 54,
     "metadata": {},
     "output_type": "execute_result"
    }
   ],
   "source": [
    "a.keys()"
   ]
  },
  {
   "cell_type": "code",
   "execution_count": 55,
   "id": "8c85b91f",
   "metadata": {},
   "outputs": [
    {
     "data": {
      "text/plain": [
       "dict_values(['1', 'JIJIN', 'data scientist', '12.5 LPA'])"
      ]
     },
     "execution_count": 55,
     "metadata": {},
     "output_type": "execute_result"
    }
   ],
   "source": [
    "a.values()"
   ]
  },
  {
   "cell_type": "code",
   "execution_count": 56,
   "id": "af88f163",
   "metadata": {},
   "outputs": [
    {
     "data": {
      "text/plain": [
       "dict_items([('s.no', '1'), ('name', 'JIJIN'), ('designation', 'data scientist'), ('salary', '12.5 LPA')])"
      ]
     },
     "execution_count": 56,
     "metadata": {},
     "output_type": "execute_result"
    }
   ],
   "source": [
    "a.items()"
   ]
  },
  {
   "cell_type": "code",
   "execution_count": 58,
   "id": "db9b50d1",
   "metadata": {},
   "outputs": [],
   "source": [
    "#Dictionaries\n",
    "\n",
    "b= {'s.no':['1','2','3'],\"name\":[\"JIJIN\",\"ABISHEK\",\"LINGA\"],\"designation\":[\"data scientist\",\"ML Engineer\",\"Data Analyst\"],\"salary\":[\"12.5 LPA\",\"10 LPA\",\"7.5 LPA\"]}"
   ]
  },
  {
   "cell_type": "code",
   "execution_count": 60,
   "id": "7f5e3fed",
   "metadata": {},
   "outputs": [
    {
     "data": {
      "text/plain": [
       "{'s.no': ['1', '2', '3'],\n",
       " 'name': ['JIJIN', 'ABISHEK', 'LINGA'],\n",
       " 'designation': ['data scientist', 'ML Engineer', 'Data Analyst'],\n",
       " 'salary': ['12.5 LPA', '10 LPA', '7.5 LPA']}"
      ]
     },
     "execution_count": 60,
     "metadata": {},
     "output_type": "execute_result"
    }
   ],
   "source": [
    "b"
   ]
  },
  {
   "cell_type": "code",
   "execution_count": 61,
   "id": "f94afe0d",
   "metadata": {},
   "outputs": [],
   "source": [
    "b.update({\"Experience\":[2,4,1]})"
   ]
  },
  {
   "cell_type": "code",
   "execution_count": 62,
   "id": "3a25275c",
   "metadata": {},
   "outputs": [
    {
     "data": {
      "text/plain": [
       "{'s.no': ['1', '2', '3'],\n",
       " 'name': ['JIJIN', 'ABISHEK', 'LINGA'],\n",
       " 'designation': ['data scientist', 'ML Engineer', 'Data Analyst'],\n",
       " 'salary': ['12.5 LPA', '10 LPA', '7.5 LPA'],\n",
       " 'Experience': [2, 4, 1]}"
      ]
     },
     "execution_count": 62,
     "metadata": {},
     "output_type": "execute_result"
    }
   ],
   "source": [
    "b"
   ]
  },
  {
   "cell_type": "code",
   "execution_count": 64,
   "id": "aabdac92",
   "metadata": {},
   "outputs": [
    {
     "data": {
      "text/plain": [
       "dict_keys(['s.no', 'name', 'designation', 'salary', 'Experience'])"
      ]
     },
     "execution_count": 64,
     "metadata": {},
     "output_type": "execute_result"
    }
   ],
   "source": [
    "b.keys()"
   ]
  },
  {
   "cell_type": "code",
   "execution_count": 65,
   "id": "2a97de8f",
   "metadata": {},
   "outputs": [
    {
     "data": {
      "text/plain": [
       "dict_values([['1', '2', '3'], ['JIJIN', 'ABISHEK', 'LINGA'], ['data scientist', 'ML Engineer', 'Data Analyst'], ['12.5 LPA', '10 LPA', '7.5 LPA'], [2, 4, 1]])"
      ]
     },
     "execution_count": 65,
     "metadata": {},
     "output_type": "execute_result"
    }
   ],
   "source": [
    "b.values()"
   ]
  },
  {
   "cell_type": "code",
   "execution_count": 67,
   "id": "6fa02561",
   "metadata": {},
   "outputs": [],
   "source": [
    "#sets\n",
    "\n",
    "set1 = {\"Rock\",\"Rock\",\"water\",\"eat\",\"sleep\",\"sleep\",\"repeat\"}"
   ]
  },
  {
   "cell_type": "code",
   "execution_count": 68,
   "id": "ef0dda0d",
   "metadata": {},
   "outputs": [
    {
     "data": {
      "text/plain": [
       "{'Rock', 'eat', 'repeat', 'sleep', 'water'}"
      ]
     },
     "execution_count": 68,
     "metadata": {},
     "output_type": "execute_result"
    }
   ],
   "source": [
    "set1"
   ]
  },
  {
   "cell_type": "code",
   "execution_count": 69,
   "id": "85b9d5fe",
   "metadata": {},
   "outputs": [
    {
     "data": {
      "text/plain": [
       "set"
      ]
     },
     "execution_count": 69,
     "metadata": {},
     "output_type": "execute_result"
    }
   ],
   "source": [
    "#duplicate values are removed\n",
    "\n",
    "type(set1)"
   ]
  },
  {
   "cell_type": "code",
   "execution_count": 70,
   "id": "24225c34",
   "metadata": {},
   "outputs": [],
   "source": [
    "#Type casting------ list to sets \n",
    "album_list=[\"Michael jackson\",\"Thriller\",\"Thriller\",1982]\n",
    "album_set = set(album_list)"
   ]
  },
  {
   "cell_type": "code",
   "execution_count": 71,
   "id": "414cd852",
   "metadata": {},
   "outputs": [
    {
     "data": {
      "text/plain": [
       "{1982, 'Michael jackson', 'Thriller'}"
      ]
     },
     "execution_count": 71,
     "metadata": {},
     "output_type": "execute_result"
    }
   ],
   "source": [
    "album_set"
   ]
  },
  {
   "cell_type": "code",
   "execution_count": 72,
   "id": "741566a9",
   "metadata": {},
   "outputs": [],
   "source": [
    "album_set.add(\"New york\")"
   ]
  },
  {
   "cell_type": "code",
   "execution_count": 73,
   "id": "30c6226d",
   "metadata": {},
   "outputs": [
    {
     "data": {
      "text/plain": [
       "{1982, 'Michael jackson', 'New york', 'Thriller'}"
      ]
     },
     "execution_count": 73,
     "metadata": {},
     "output_type": "execute_result"
    }
   ],
   "source": [
    "album_set"
   ]
  },
  {
   "cell_type": "code",
   "execution_count": 74,
   "id": "ba436c8d",
   "metadata": {},
   "outputs": [],
   "source": [
    "album_set.remove(\"New york\")"
   ]
  },
  {
   "cell_type": "code",
   "execution_count": 75,
   "id": "3b22de97",
   "metadata": {},
   "outputs": [
    {
     "data": {
      "text/plain": [
       "{1982, 'Michael jackson', 'Thriller'}"
      ]
     },
     "execution_count": 75,
     "metadata": {},
     "output_type": "execute_result"
    }
   ],
   "source": [
    "album_set"
   ]
  },
  {
   "cell_type": "code",
   "execution_count": 76,
   "id": "911bb132",
   "metadata": {},
   "outputs": [],
   "source": [
    "album_set2= {\"Michael jackson\",\"Back and black\",1982}"
   ]
  },
  {
   "cell_type": "code",
   "execution_count": 77,
   "id": "9241ad29",
   "metadata": {},
   "outputs": [],
   "source": [
    "album=  album_set & album_set2"
   ]
  },
  {
   "cell_type": "code",
   "execution_count": 78,
   "id": "c78e8db3",
   "metadata": {},
   "outputs": [
    {
     "data": {
      "text/plain": [
       "{1982, 'Michael jackson'}"
      ]
     },
     "execution_count": 78,
     "metadata": {},
     "output_type": "execute_result"
    }
   ],
   "source": [
    "album"
   ]
  },
  {
   "cell_type": "code",
   "execution_count": 81,
   "id": "dbfd7e7e",
   "metadata": {},
   "outputs": [
    {
     "data": {
      "text/plain": [
       "{1982, 'Back and black', 'Michael jackson', 'Thriller'}"
      ]
     },
     "execution_count": 81,
     "metadata": {},
     "output_type": "execute_result"
    }
   ],
   "source": [
    "album_set.union(album_set2)"
   ]
  },
  {
   "cell_type": "code",
   "execution_count": 82,
   "id": "8629c05a",
   "metadata": {},
   "outputs": [
    {
     "data": {
      "text/plain": [
       "True"
      ]
     },
     "execution_count": 82,
     "metadata": {},
     "output_type": "execute_result"
    }
   ],
   "source": [
    "album.issubset(album_set)"
   ]
  },
  {
   "cell_type": "code",
   "execution_count": 83,
   "id": "88ed25a0",
   "metadata": {},
   "outputs": [
    {
     "data": {
      "text/plain": [
       "['JIJIN', 'ABISHEK', 'LINGA']"
      ]
     },
     "execution_count": 83,
     "metadata": {},
     "output_type": "execute_result"
    }
   ],
   "source": [
    "b['name']"
   ]
  },
  {
   "cell_type": "code",
   "execution_count": 84,
   "id": "80106a9d",
   "metadata": {},
   "outputs": [
    {
     "data": {
      "text/plain": [
       "['12.5 LPA', '10 LPA', '7.5 LPA']"
      ]
     },
     "execution_count": 84,
     "metadata": {},
     "output_type": "execute_result"
    }
   ],
   "source": [
    "b['salary']"
   ]
  },
  {
   "cell_type": "code",
   "execution_count": 85,
   "id": "d211647c",
   "metadata": {},
   "outputs": [
    {
     "data": {
      "text/plain": [
       "True"
      ]
     },
     "execution_count": 85,
     "metadata": {},
     "output_type": "execute_result"
    }
   ],
   "source": [
    "\"s.no\" in b"
   ]
  },
  {
   "cell_type": "code",
   "execution_count": 86,
   "id": "e20e2650",
   "metadata": {},
   "outputs": [
    {
     "data": {
      "text/plain": [
       "False"
      ]
     },
     "execution_count": 86,
     "metadata": {},
     "output_type": "execute_result"
    }
   ],
   "source": [
    "\"occupation\" in b"
   ]
  },
  {
   "cell_type": "code",
   "execution_count": 88,
   "id": "d37f02df",
   "metadata": {},
   "outputs": [],
   "source": [
    "def party():\n",
    "    age= int(input(\"Enter your age : \"))\n",
    "    if age<18:\n",
    "        print(\"You are not allowed to enter\")\n",
    "    else:\n",
    "        print(\"Welcome to the club. Have a rememorable day\")"
   ]
  },
  {
   "cell_type": "code",
   "execution_count": 89,
   "id": "fe7d508c",
   "metadata": {},
   "outputs": [
    {
     "data": {
      "text/plain": [
       "<function __main__.party()>"
      ]
     },
     "execution_count": 89,
     "metadata": {},
     "output_type": "execute_result"
    }
   ],
   "source": [
    "party"
   ]
  },
  {
   "cell_type": "code",
   "execution_count": 90,
   "id": "a07a2542",
   "metadata": {},
   "outputs": [
    {
     "name": "stdout",
     "output_type": "stream",
     "text": [
      "Enter your age : 17\n",
      "You are not allowed to enter\n"
     ]
    }
   ],
   "source": [
    "party()"
   ]
  },
  {
   "cell_type": "code",
   "execution_count": 91,
   "id": "dab21448",
   "metadata": {},
   "outputs": [
    {
     "name": "stdout",
     "output_type": "stream",
     "text": [
      "Enter your age : 21\n",
      "Welcome to the club. Have a rememorable day\n"
     ]
    }
   ],
   "source": [
    "party()"
   ]
  },
  {
   "cell_type": "code",
   "execution_count": 92,
   "id": "7f7efc8a",
   "metadata": {},
   "outputs": [
    {
     "name": "stdout",
     "output_type": "stream",
     "text": [
      "Enter your age : 18\n",
      "Welcome to the club. Have a rememorable day\n"
     ]
    }
   ],
   "source": [
    "party()"
   ]
  },
  {
   "cell_type": "code",
   "execution_count": 93,
   "id": "9f326f22",
   "metadata": {},
   "outputs": [],
   "source": [
    "a = 10"
   ]
  },
  {
   "cell_type": "code",
   "execution_count": 94,
   "id": "298e6f05",
   "metadata": {},
   "outputs": [
    {
     "data": {
      "text/plain": [
       "True"
      ]
     },
     "execution_count": 94,
     "metadata": {},
     "output_type": "execute_result"
    }
   ],
   "source": [
    "a==10"
   ]
  },
  {
   "cell_type": "code",
   "execution_count": 95,
   "id": "51b504b6",
   "metadata": {},
   "outputs": [
    {
     "data": {
      "text/plain": [
       "False"
      ]
     },
     "execution_count": 95,
     "metadata": {},
     "output_type": "execute_result"
    }
   ],
   "source": [
    "a==80"
   ]
  },
  {
   "cell_type": "code",
   "execution_count": 97,
   "id": "1ba7d199",
   "metadata": {},
   "outputs": [],
   "source": [
    "def year():\n",
    "    album_year= int(input(\"Enter the year of album\"))\n",
    "    if (album_year<1980) or (album_year>1999):\n",
    "        print(\"The album is printed before 80's or after 90's\")\n",
    "    else:\n",
    "        print(\"The album is printed betweem 80's and 90's\")"
   ]
  },
  {
   "cell_type": "code",
   "execution_count": 98,
   "id": "9255b4ea",
   "metadata": {},
   "outputs": [
    {
     "name": "stdout",
     "output_type": "stream",
     "text": [
      "Enter the year of album1997\n",
      "The album is printed betweem 80's and 90's\n"
     ]
    }
   ],
   "source": [
    "year()"
   ]
  },
  {
   "cell_type": "code",
   "execution_count": 99,
   "id": "aca5ecfa",
   "metadata": {},
   "outputs": [
    {
     "name": "stdout",
     "output_type": "stream",
     "text": [
      "Enter the year of album2019\n",
      "The album is printed before 80's or after 90's\n"
     ]
    }
   ],
   "source": [
    "year()"
   ]
  },
  {
   "cell_type": "code",
   "execution_count": 100,
   "id": "a9ff534b",
   "metadata": {},
   "outputs": [],
   "source": [
    "#For list\n",
    "\n",
    "squares= [\"RED\",\"ORANGE\",\"PINK\",\"YELLOW\",\"GREEN\"]"
   ]
  },
  {
   "cell_type": "code",
   "execution_count": 103,
   "id": "e7e28864",
   "metadata": {},
   "outputs": [
    {
     "name": "stdout",
     "output_type": "stream",
     "text": [
      "RED \n",
      "\n",
      "ORANGE \n",
      "\n",
      "PINK \n",
      "\n",
      "YELLOW \n",
      "\n",
      "GREEN \n",
      "\n"
     ]
    }
   ],
   "source": [
    "for i in squares:\n",
    "    print(i,\"\\n\")"
   ]
  },
  {
   "cell_type": "code",
   "execution_count": 109,
   "id": "93fd4730",
   "metadata": {},
   "outputs": [],
   "source": [
    "for i in range(5):\n",
    "    squares[i]=\"white\""
   ]
  },
  {
   "cell_type": "code",
   "execution_count": 110,
   "id": "1f447539",
   "metadata": {},
   "outputs": [
    {
     "data": {
      "text/plain": [
       "['white', 'white', 'white', 'white', 'white']"
      ]
     },
     "execution_count": 110,
     "metadata": {},
     "output_type": "execute_result"
    }
   ],
   "source": [
    "squares"
   ]
  },
  {
   "cell_type": "code",
   "execution_count": 111,
   "id": "52b0eb9a",
   "metadata": {},
   "outputs": [
    {
     "name": "stdout",
     "output_type": "stream",
     "text": [
      "0\n",
      "white\n",
      "1\n",
      "white\n",
      "2\n",
      "white\n",
      "3\n",
      "white\n",
      "4\n",
      "white\n"
     ]
    }
   ],
   "source": [
    "for i,square in enumerate(squares):\n",
    "    print(i)\n",
    "    print(square)"
   ]
  },
  {
   "cell_type": "code",
   "execution_count": 121,
   "id": "b90bef1d",
   "metadata": {},
   "outputs": [],
   "source": [
    "# while loop\n",
    "# give only data which is of string type\n",
    "\n",
    "Fruits= [\"Apple\",\"Apple\",\"Orange\",\"guava\",12,\"apple\",18,19]\n",
    "new_fruits=[]\n",
    "\n",
    "i=0\n",
    "while(type(Fruits[i]) == str):\n",
    "      new_fruits.append(Fruits[i])\n",
    "      i=i+1"
   ]
  },
  {
   "cell_type": "code",
   "execution_count": 122,
   "id": "bf2c4b55",
   "metadata": {},
   "outputs": [
    {
     "data": {
      "text/plain": [
       "['Apple', 'Apple', 'Orange', 'guava']"
      ]
     },
     "execution_count": 122,
     "metadata": {},
     "output_type": "execute_result"
    }
   ],
   "source": [
    "new_fruits"
   ]
  },
  {
   "cell_type": "code",
   "execution_count": 132,
   "id": "f4366dc7",
   "metadata": {},
   "outputs": [],
   "source": [
    "k=[19.23,19,98,9,87,62,91,72]"
   ]
  },
  {
   "cell_type": "code",
   "execution_count": 133,
   "id": "ece4ab75",
   "metadata": {},
   "outputs": [
    {
     "data": {
      "text/plain": [
       "457.23"
      ]
     },
     "execution_count": 133,
     "metadata": {},
     "output_type": "execute_result"
    }
   ],
   "source": [
    "sum(k)"
   ]
  },
  {
   "cell_type": "code",
   "execution_count": 134,
   "id": "d78148d3",
   "metadata": {},
   "outputs": [
    {
     "data": {
      "text/plain": [
       "8"
      ]
     },
     "execution_count": 134,
     "metadata": {},
     "output_type": "execute_result"
    }
   ],
   "source": [
    "len(k)"
   ]
  },
  {
   "cell_type": "code",
   "execution_count": 135,
   "id": "ea0c1955",
   "metadata": {},
   "outputs": [
    {
     "data": {
      "text/plain": [
       "[9, 19, 19.23, 62, 72, 87, 91, 98]"
      ]
     },
     "execution_count": 135,
     "metadata": {},
     "output_type": "execute_result"
    }
   ],
   "source": [
    "#function\n",
    "sorted(k)"
   ]
  },
  {
   "cell_type": "code",
   "execution_count": 137,
   "id": "f53ddc7d",
   "metadata": {},
   "outputs": [],
   "source": [
    "#method\n",
    "k.sort()"
   ]
  },
  {
   "cell_type": "code",
   "execution_count": 138,
   "id": "7d927a44",
   "metadata": {},
   "outputs": [
    {
     "data": {
      "text/plain": [
       "[9, 19, 19.23, 62, 72, 87, 91, 98]"
      ]
     },
     "execution_count": 138,
     "metadata": {},
     "output_type": "execute_result"
    }
   ],
   "source": [
    "k"
   ]
  },
  {
   "cell_type": "code",
   "execution_count": 139,
   "id": "ae3e3e7b",
   "metadata": {},
   "outputs": [],
   "source": [
    "#simple function\n",
    "\n",
    "def add(a):\n",
    "    b=a+1\n",
    "    return b"
   ]
  },
  {
   "cell_type": "code",
   "execution_count": 140,
   "id": "844329b0",
   "metadata": {},
   "outputs": [
    {
     "data": {
      "text/plain": [
       "21"
      ]
     },
     "execution_count": 140,
     "metadata": {},
     "output_type": "execute_result"
    }
   ],
   "source": [
    "add(20)"
   ]
  },
  {
   "cell_type": "code",
   "execution_count": 141,
   "id": "376e7cd6",
   "metadata": {},
   "outputs": [],
   "source": [
    "#simple function\n",
    "\n",
    "def add(a):\n",
    "    '''\n",
    "    add 1 to a\n",
    "    '''\n",
    "    b=a+1\n",
    "    return b"
   ]
  },
  {
   "cell_type": "code",
   "execution_count": 143,
   "id": "faa3c2bc",
   "metadata": {},
   "outputs": [
    {
     "name": "stdout",
     "output_type": "stream",
     "text": [
      "Help on function add in module __main__:\n",
      "\n",
      "add(a)\n",
      "    add 1 to a\n",
      "\n"
     ]
    }
   ],
   "source": [
    "help(add)"
   ]
  },
  {
   "cell_type": "code",
   "execution_count": 144,
   "id": "cf72e377",
   "metadata": {},
   "outputs": [],
   "source": [
    "# multiplication\n",
    "\n",
    "def mult(a,b):\n",
    "    c= a*b\n",
    "    return c"
   ]
  },
  {
   "cell_type": "code",
   "execution_count": 145,
   "id": "4254b1ce",
   "metadata": {},
   "outputs": [
    {
     "data": {
      "text/plain": [
       "16"
      ]
     },
     "execution_count": 145,
     "metadata": {},
     "output_type": "execute_result"
    }
   ],
   "source": [
    "mult(2,8)"
   ]
  },
  {
   "cell_type": "code",
   "execution_count": 147,
   "id": "f917faa8",
   "metadata": {},
   "outputs": [
    {
     "data": {
      "text/plain": [
       "'JIJIN JIJIN JIJIN '"
      ]
     },
     "execution_count": 147,
     "metadata": {},
     "output_type": "execute_result"
    }
   ],
   "source": [
    "mult(3,\"JIJIN \")"
   ]
  },
  {
   "cell_type": "code",
   "execution_count": 150,
   "id": "6e64d2e0",
   "metadata": {},
   "outputs": [
    {
     "data": {
      "text/plain": [
       "399393"
      ]
     },
     "execution_count": 150,
     "metadata": {},
     "output_type": "execute_result"
    }
   ],
   "source": [
    "\n",
    "mult(199,2007)"
   ]
  },
  {
   "cell_type": "code",
   "execution_count": 151,
   "id": "24c9db1f",
   "metadata": {},
   "outputs": [
    {
     "data": {
      "text/plain": [
       "146.39999999999998"
      ]
     },
     "execution_count": 151,
     "metadata": {},
     "output_type": "execute_result"
    }
   ],
   "source": [
    "mult(12.2,12)"
   ]
  },
  {
   "cell_type": "code",
   "execution_count": 153,
   "id": "d7c0ee66",
   "metadata": {},
   "outputs": [],
   "source": [
    "def samp():\n",
    "    print(\"Michael jackson\")"
   ]
  },
  {
   "cell_type": "code",
   "execution_count": 154,
   "id": "8133ba11",
   "metadata": {},
   "outputs": [
    {
     "name": "stdout",
     "output_type": "stream",
     "text": [
      "Michael jackson\n"
     ]
    }
   ],
   "source": [
    "samp()"
   ]
  },
  {
   "cell_type": "code",
   "execution_count": 155,
   "id": "3e1e1f3b",
   "metadata": {},
   "outputs": [],
   "source": [
    "def samp2(a,b):\n",
    "    c= a-b"
   ]
  },
  {
   "cell_type": "code",
   "execution_count": 156,
   "id": "dfcfe000",
   "metadata": {},
   "outputs": [],
   "source": [
    "samp2(17,6)"
   ]
  },
  {
   "cell_type": "code",
   "execution_count": 160,
   "id": "10b80b10",
   "metadata": {},
   "outputs": [],
   "source": [
    "# if return statement  not given , we can't get the values"
   ]
  },
  {
   "cell_type": "code",
   "execution_count": 162,
   "id": "5a7d07ca",
   "metadata": {},
   "outputs": [
    {
     "ename": "SyntaxError",
     "evalue": "unexpected EOF while parsing (<ipython-input-162-17296923604d>, line 1)",
     "output_type": "error",
     "traceback": [
      "\u001b[1;36m  File \u001b[1;32m\"<ipython-input-162-17296923604d>\"\u001b[1;36m, line \u001b[1;32m1\u001b[0m\n\u001b[1;33m    def newyor():\u001b[0m\n\u001b[1;37m                 ^\u001b[0m\n\u001b[1;31mSyntaxError\u001b[0m\u001b[1;31m:\u001b[0m unexpected EOF while parsing\n"
     ]
    }
   ],
   "source": [
    "def newyor():  #function cannot be defined without body"
   ]
  },
  {
   "cell_type": "code",
   "execution_count": 163,
   "id": "ce072485",
   "metadata": {},
   "outputs": [],
   "source": [
    "def newyor():\n",
    "    pass"
   ]
  },
  {
   "cell_type": "code",
   "execution_count": 164,
   "id": "9d109bce",
   "metadata": {},
   "outputs": [],
   "source": [
    "newyor()"
   ]
  },
  {
   "cell_type": "code",
   "execution_count": 165,
   "id": "49357f67",
   "metadata": {},
   "outputs": [],
   "source": [
    "def rating(a):\n",
    "    for i,s in enumerate(a):\n",
    "        print(i,\" is of rating \",s)"
   ]
  },
  {
   "cell_type": "code",
   "execution_count": 167,
   "id": "b31c853b",
   "metadata": {},
   "outputs": [],
   "source": [
    "album_rating=[10,5,8,6,2]"
   ]
  },
  {
   "cell_type": "code",
   "execution_count": 168,
   "id": "8e8f3798",
   "metadata": {},
   "outputs": [
    {
     "name": "stdout",
     "output_type": "stream",
     "text": [
      "0  is of rating  10\n",
      "1  is of rating  5\n",
      "2  is of rating  8\n",
      "3  is of rating  6\n",
      "4  is of rating  2\n"
     ]
    }
   ],
   "source": [
    "rating(album_rating)"
   ]
  },
  {
   "cell_type": "code",
   "execution_count": 169,
   "id": "4a00f7c4",
   "metadata": {},
   "outputs": [],
   "source": [
    "#to give infinite arguments\n",
    "\n",
    "def name(*names):\n",
    "    for i in names:\n",
    "        print(i)"
   ]
  },
  {
   "cell_type": "code",
   "execution_count": 170,
   "id": "af57eb16",
   "metadata": {},
   "outputs": [
    {
     "name": "stdout",
     "output_type": "stream",
     "text": [
      "JIJIN\n",
      "Krishna\n",
      "Sai\n",
      "Pradeep\n"
     ]
    }
   ],
   "source": [
    "name(\"JIJIN\",\"Krishna\",\"Sai\",\"Pradeep\")"
   ]
  },
  {
   "cell_type": "code",
   "execution_count": 172,
   "id": "3ff2cb1e",
   "metadata": {},
   "outputs": [
    {
     "data": {
      "text/plain": [
       "'DCAD'"
      ]
     },
     "execution_count": 172,
     "metadata": {},
     "output_type": "execute_result"
    }
   ],
   "source": [
    "# scope, The scope of x is only taken when the function is executed\n",
    "def addDC(y):\n",
    "    c= y+\"AD\"\n",
    "    return c\n",
    "\n",
    "x=\"DC\"\n",
    "addDC(x)"
   ]
  },
  {
   "cell_type": "code",
   "execution_count": 174,
   "id": "23b75001",
   "metadata": {},
   "outputs": [],
   "source": [
    "# Local variable\n",
    "\n",
    "def Thriller():\n",
    "    yr= 1970\n",
    "    return yr"
   ]
  },
  {
   "cell_type": "code",
   "execution_count": 178,
   "id": "2dbd423d",
   "metadata": {},
   "outputs": [
    {
     "data": {
      "text/plain": [
       "1970"
      ]
     },
     "execution_count": 178,
     "metadata": {},
     "output_type": "execute_result"
    }
   ],
   "source": [
    "Thriller()"
   ]
  },
  {
   "cell_type": "code",
   "execution_count": 179,
   "id": "ecd7b8aa",
   "metadata": {},
   "outputs": [
    {
     "ename": "NameError",
     "evalue": "name 'yr' is not defined",
     "output_type": "error",
     "traceback": [
      "\u001b[1;31m---------------------------------------------------------------------------\u001b[0m",
      "\u001b[1;31mNameError\u001b[0m                                 Traceback (most recent call last)",
      "\u001b[1;32m<ipython-input-179-714b6d731767>\u001b[0m in \u001b[0;36m<module>\u001b[1;34m\u001b[0m\n\u001b[1;32m----> 1\u001b[1;33m \u001b[0myr\u001b[0m\u001b[1;33m\u001b[0m\u001b[1;33m\u001b[0m\u001b[0m\n\u001b[0m",
      "\u001b[1;31mNameError\u001b[0m: name 'yr' is not defined"
     ]
    }
   ],
   "source": [
    "yr"
   ]
  },
  {
   "cell_type": "code",
   "execution_count": 181,
   "id": "e00b200d",
   "metadata": {},
   "outputs": [
    {
     "name": "stdout",
     "output_type": "stream",
     "text": [
      "1970 ----> local variable\n",
      "2010 -----> Global variable\n"
     ]
    }
   ],
   "source": [
    "#Global variable\n",
    "def Thriller():\n",
    "    yr=1970 #local variable\n",
    "    return yr\n",
    "\n",
    "yr= 2010  # global variable\n",
    "print(Thriller(),\"----> local variable\")\n",
    "print(yr,\"-----> Global variable\")"
   ]
  },
  {
   "cell_type": "code",
   "execution_count": 182,
   "id": "971aad6a",
   "metadata": {},
   "outputs": [
    {
     "name": "stdout",
     "output_type": "stream",
     "text": [
      "1975\n"
     ]
    }
   ],
   "source": [
    "#If a local variable not defined it will take the global variable\n",
    "\n",
    "def thriller(a):\n",
    "    year= yr+a\n",
    "    return year\n",
    "\n",
    "yr=1970\n",
    "print(thriller(5))    "
   ]
  },
  {
   "cell_type": "code",
   "execution_count": 184,
   "id": "bb305db7",
   "metadata": {},
   "outputs": [
    {
     "name": "stdout",
     "output_type": "stream",
     "text": [
      "75000\n",
      "70000\n"
     ]
    }
   ],
   "source": [
    "# we can use keyword Global to make local variable as Global variable\n",
    "\n",
    "def ex(c):\n",
    "    global salary \n",
    "    salary = 70000\n",
    "    bonus= salary + c\n",
    "    return bonus\n",
    "\n",
    "print(ex(5000))\n",
    "print(salary)    \n",
    "    "
   ]
  },
  {
   "cell_type": "code",
   "execution_count": 185,
   "id": "978bca4a",
   "metadata": {},
   "outputs": [],
   "source": [
    "# some other list\n",
    "\n",
    "b=[6,3,8]\n",
    "c=[9,4,2]\n",
    "a=[2,4,5]\n"
   ]
  },
  {
   "cell_type": "code",
   "execution_count": 189,
   "id": "121c80d4",
   "metadata": {},
   "outputs": [],
   "source": [
    "# nested list\n",
    "d=[a,b,c]"
   ]
  },
  {
   "cell_type": "code",
   "execution_count": 190,
   "id": "088ad8cb",
   "metadata": {},
   "outputs": [
    {
     "data": {
      "text/plain": [
       "[[2, 4, 5], [6, 3, 8], [9, 4, 2]]"
      ]
     },
     "execution_count": 190,
     "metadata": {},
     "output_type": "execute_result"
    }
   ],
   "source": [
    "d"
   ]
  },
  {
   "cell_type": "code",
   "execution_count": 191,
   "id": "67902e9a",
   "metadata": {},
   "outputs": [
    {
     "data": {
      "text/plain": [
       "[2, 6, 9]"
      ]
     },
     "execution_count": 191,
     "metadata": {},
     "output_type": "execute_result"
    }
   ],
   "source": [
    "[i[0] for i in d] # first row"
   ]
  },
  {
   "cell_type": "code",
   "execution_count": 192,
   "id": "ab0c9a11",
   "metadata": {},
   "outputs": [
    {
     "data": {
      "text/plain": [
       "[2, 4, 5]"
      ]
     },
     "execution_count": 192,
     "metadata": {},
     "output_type": "execute_result"
    }
   ],
   "source": [
    "d[0]  # first column"
   ]
  },
  {
   "cell_type": "code",
   "execution_count": 193,
   "id": "77b5d667",
   "metadata": {},
   "outputs": [
    {
     "data": {
      "text/plain": [
       "[[4, 5], [3, 8], [4, 2]]"
      ]
     },
     "execution_count": 193,
     "metadata": {},
     "output_type": "execute_result"
    }
   ],
   "source": [
    "[i[1:] for i in d]"
   ]
  },
  {
   "cell_type": "code",
   "execution_count": 196,
   "id": "3649964a",
   "metadata": {},
   "outputs": [
    {
     "data": {
      "text/plain": [
       "[2,\n",
       " 4,\n",
       " 6,\n",
       " 8,\n",
       " 10,\n",
       " 12,\n",
       " 14,\n",
       " 16,\n",
       " 18,\n",
       " 20,\n",
       " 22,\n",
       " 24,\n",
       " 26,\n",
       " 28,\n",
       " 30,\n",
       " 32,\n",
       " 34,\n",
       " 36,\n",
       " 38,\n",
       " 40,\n",
       " 42,\n",
       " 44,\n",
       " 46,\n",
       " 48,\n",
       " 50,\n",
       " 52,\n",
       " 54,\n",
       " 56,\n",
       " 58,\n",
       " 60,\n",
       " 62,\n",
       " 64,\n",
       " 66,\n",
       " 68,\n",
       " 70,\n",
       " 72,\n",
       " 74,\n",
       " 76,\n",
       " 78,\n",
       " 80,\n",
       " 82,\n",
       " 84,\n",
       " 86,\n",
       " 88,\n",
       " 90,\n",
       " 92,\n",
       " 94,\n",
       " 96,\n",
       " 98]"
      ]
     },
     "execution_count": 196,
     "metadata": {},
     "output_type": "execute_result"
    }
   ],
   "source": [
    "[i for i in range(2,100,2)]\n",
    "    "
   ]
  },
  {
   "cell_type": "code",
   "execution_count": 198,
   "id": "c46f2d1f",
   "metadata": {},
   "outputs": [],
   "source": [
    "gen= [\"rock\",\"pop\",\"disco\",\"melody\"]"
   ]
  },
  {
   "cell_type": "code",
   "execution_count": 202,
   "id": "ed5980f2",
   "metadata": {},
   "outputs": [
    {
     "name": "stdout",
     "output_type": "stream",
     "text": [
      "i love  rock\n",
      "i love  pop\n",
      "i love  disco\n",
      "i love  melody\n"
     ]
    },
    {
     "data": {
      "text/plain": [
       "[None, None, None, None]"
      ]
     },
     "execution_count": 202,
     "metadata": {},
     "output_type": "execute_result"
    }
   ],
   "source": [
    "[print(\"i love \",gen[i]) for i in range(len(gen))]"
   ]
  },
  {
   "cell_type": "code",
   "execution_count": 203,
   "id": "80a9c723",
   "metadata": {},
   "outputs": [
    {
     "data": {
      "text/plain": [
       "['rock', 'pop', 'disco', 'melody']"
      ]
     },
     "execution_count": 203,
     "metadata": {},
     "output_type": "execute_result"
    }
   ],
   "source": [
    "[i for i in gen ]"
   ]
  },
  {
   "cell_type": "code",
   "execution_count": 204,
   "id": "071eeba1",
   "metadata": {},
   "outputs": [
    {
     "name": "stdout",
     "output_type": "stream",
     "text": [
      "Hello  jose\n"
     ]
    }
   ],
   "source": [
    "name=\"jose\"\n",
    "print(\"Hello \",name)"
   ]
  },
  {
   "cell_type": "code",
   "execution_count": 214,
   "id": "b7eff319",
   "metadata": {},
   "outputs": [],
   "source": [
    "def name(a):\n",
    "    print(\"Hello \",a)\n",
    "    print(\"Hi %s\"%a)\n",
    "    "
   ]
  },
  {
   "cell_type": "code",
   "execution_count": 215,
   "id": "cfbb29a3",
   "metadata": {},
   "outputs": [
    {
     "name": "stdout",
     "output_type": "stream",
     "text": [
      "Hello  jose\n",
      "Hi jose\n"
     ]
    }
   ],
   "source": [
    "name('jose')"
   ]
  },
  {
   "cell_type": "code",
   "execution_count": 218,
   "id": "f7582e91",
   "metadata": {},
   "outputs": [],
   "source": [
    "#prime number\n",
    "def prime():\n",
    "    a=int(input(\"Enter a number  \"))\n",
    "    for i in range(2,a):\n",
    "        if a%i==0:\n",
    "            print(\"Nope... It is not a prime number\")\n",
    "            break            \n",
    "    else:\n",
    "        print(\"Yay!!! It is a prime number\")"
   ]
  },
  {
   "cell_type": "code",
   "execution_count": 220,
   "id": "7cb887e9",
   "metadata": {},
   "outputs": [
    {
     "name": "stdout",
     "output_type": "stream",
     "text": [
      "Enter a number  13\n",
      "Yay!!! It is a prime number\n"
     ]
    }
   ],
   "source": [
    "prime()"
   ]
  },
  {
   "cell_type": "code",
   "execution_count": 221,
   "id": "d8e930b0",
   "metadata": {},
   "outputs": [
    {
     "name": "stdout",
     "output_type": "stream",
     "text": [
      "Enter a number  16\n",
      "Nope... It is not a prime number\n"
     ]
    }
   ],
   "source": [
    "prime()"
   ]
  },
  {
   "cell_type": "code",
   "execution_count": 228,
   "id": "bef2b04a",
   "metadata": {},
   "outputs": [],
   "source": [
    "import math\n",
    "def prime1(num):\n",
    "    '''\n",
    "    a better method to find prime\n",
    "    \n",
    "    '''\n",
    "    if num%2==0 and num>2:\n",
    "        return False\n",
    "    for i in range(3,int(math.sqrt(num))+1,2):\n",
    "        if num%i==0:\n",
    "            return False\n",
    "    return True"
   ]
  },
  {
   "cell_type": "code",
   "execution_count": 226,
   "id": "b1a7d5ee",
   "metadata": {},
   "outputs": [],
   "source": [
    "num=12"
   ]
  },
  {
   "cell_type": "code",
   "execution_count": 234,
   "id": "c9a79bdd",
   "metadata": {},
   "outputs": [
    {
     "data": {
      "text/plain": [
       "3"
      ]
     },
     "execution_count": 234,
     "metadata": {},
     "output_type": "execute_result"
    }
   ],
   "source": [
    "int(math.sqrt(15))"
   ]
  },
  {
   "cell_type": "code",
   "execution_count": 229,
   "id": "00a7dd13",
   "metadata": {},
   "outputs": [
    {
     "data": {
      "text/plain": [
       "True"
      ]
     },
     "execution_count": 229,
     "metadata": {},
     "output_type": "execute_result"
    }
   ],
   "source": [
    "prime1(13)"
   ]
  },
  {
   "cell_type": "code",
   "execution_count": 230,
   "id": "c3643391",
   "metadata": {},
   "outputs": [
    {
     "data": {
      "text/plain": [
       "False"
      ]
     },
     "execution_count": 230,
     "metadata": {},
     "output_type": "execute_result"
    }
   ],
   "source": [
    "prime1(18)"
   ]
  },
  {
   "cell_type": "code",
   "execution_count": 231,
   "id": "decf5a88",
   "metadata": {},
   "outputs": [
    {
     "data": {
      "text/plain": [
       "True"
      ]
     },
     "execution_count": 231,
     "metadata": {},
     "output_type": "execute_result"
    }
   ],
   "source": [
    "prime1(19)"
   ]
  },
  {
   "cell_type": "code",
   "execution_count": 232,
   "id": "a72761f9",
   "metadata": {},
   "outputs": [
    {
     "data": {
      "text/plain": [
       "True"
      ]
     },
     "execution_count": 232,
     "metadata": {},
     "output_type": "execute_result"
    }
   ],
   "source": [
    "prime1(17)"
   ]
  },
  {
   "cell_type": "code",
   "execution_count": 233,
   "id": "2e643d91",
   "metadata": {},
   "outputs": [
    {
     "data": {
      "text/plain": [
       "False"
      ]
     },
     "execution_count": 233,
     "metadata": {},
     "output_type": "execute_result"
    }
   ],
   "source": [
    "prime1(15)"
   ]
  },
  {
   "cell_type": "code",
   "execution_count": 235,
   "id": "bfef3ed6",
   "metadata": {},
   "outputs": [],
   "source": [
    "#Classes and Objects\n",
    "\n",
    "class circle(object):\n",
    "    def __init__(self,radius,color):\n",
    "        self.radius = radius\n",
    "        self.color = color"
   ]
  },
  {
   "cell_type": "code",
   "execution_count": 236,
   "id": "239d651d",
   "metadata": {},
   "outputs": [],
   "source": [
    "c1= circle(20,\"blue\")"
   ]
  },
  {
   "cell_type": "code",
   "execution_count": 237,
   "id": "12328151",
   "metadata": {},
   "outputs": [
    {
     "data": {
      "text/plain": [
       "20"
      ]
     },
     "execution_count": 237,
     "metadata": {},
     "output_type": "execute_result"
    }
   ],
   "source": [
    "c1.radius"
   ]
  },
  {
   "cell_type": "code",
   "execution_count": 238,
   "id": "46ca1d34",
   "metadata": {},
   "outputs": [
    {
     "data": {
      "text/plain": [
       "'blue'"
      ]
     },
     "execution_count": 238,
     "metadata": {},
     "output_type": "execute_result"
    }
   ],
   "source": [
    "c1.color"
   ]
  },
  {
   "cell_type": "code",
   "execution_count": 239,
   "id": "2cf181fc",
   "metadata": {},
   "outputs": [],
   "source": [
    "c1.color= \"red\""
   ]
  },
  {
   "cell_type": "code",
   "execution_count": 240,
   "id": "635d6789",
   "metadata": {},
   "outputs": [
    {
     "data": {
      "text/plain": [
       "<__main__.circle at 0x26870f14d00>"
      ]
     },
     "execution_count": 240,
     "metadata": {},
     "output_type": "execute_result"
    }
   ],
   "source": [
    "c1"
   ]
  },
  {
   "cell_type": "code",
   "execution_count": 241,
   "id": "7bda7303",
   "metadata": {},
   "outputs": [
    {
     "data": {
      "text/plain": [
       "__main__.circle"
      ]
     },
     "execution_count": 241,
     "metadata": {},
     "output_type": "execute_result"
    }
   ],
   "source": [
    "circle"
   ]
  },
  {
   "cell_type": "code",
   "execution_count": 242,
   "id": "401bcc3b",
   "metadata": {},
   "outputs": [
    {
     "data": {
      "text/plain": [
       "'red'"
      ]
     },
     "execution_count": 242,
     "metadata": {},
     "output_type": "execute_result"
    }
   ],
   "source": [
    "c1.color"
   ]
  },
  {
   "cell_type": "code",
   "execution_count": 243,
   "id": "333c00bc",
   "metadata": {},
   "outputs": [],
   "source": [
    "class rectangle():\n",
    "    def __init__(self,length,breadth):\n",
    "        self.length=length\n",
    "        self.breadth=breadth\n",
    "        \n",
    "    def add_length(self,le):\n",
    "        self.length=self.length+le\n",
    "        return(self.length)"
   ]
  },
  {
   "cell_type": "code",
   "execution_count": 244,
   "id": "a4f2e4b8",
   "metadata": {},
   "outputs": [],
   "source": [
    "r= rectangle(20,10)"
   ]
  },
  {
   "cell_type": "code",
   "execution_count": 245,
   "id": "545335a1",
   "metadata": {},
   "outputs": [
    {
     "data": {
      "text/plain": [
       "20"
      ]
     },
     "execution_count": 245,
     "metadata": {},
     "output_type": "execute_result"
    }
   ],
   "source": [
    "r.length"
   ]
  },
  {
   "cell_type": "code",
   "execution_count": 246,
   "id": "0c70e504",
   "metadata": {},
   "outputs": [
    {
     "data": {
      "text/plain": [
       "10"
      ]
     },
     "execution_count": 246,
     "metadata": {},
     "output_type": "execute_result"
    }
   ],
   "source": [
    "r.breadth"
   ]
  },
  {
   "cell_type": "code",
   "execution_count": 247,
   "id": "8e73f675",
   "metadata": {},
   "outputs": [
    {
     "data": {
      "text/plain": [
       "35"
      ]
     },
     "execution_count": 247,
     "metadata": {},
     "output_type": "execute_result"
    }
   ],
   "source": [
    "r.add_length(15)"
   ]
  },
  {
   "cell_type": "code",
   "execution_count": 249,
   "id": "c0ee7b36",
   "metadata": {},
   "outputs": [
    {
     "data": {
      "text/plain": [
       "['__class__',\n",
       " '__delattr__',\n",
       " '__dict__',\n",
       " '__dir__',\n",
       " '__doc__',\n",
       " '__eq__',\n",
       " '__format__',\n",
       " '__ge__',\n",
       " '__getattribute__',\n",
       " '__gt__',\n",
       " '__hash__',\n",
       " '__init__',\n",
       " '__init_subclass__',\n",
       " '__le__',\n",
       " '__lt__',\n",
       " '__module__',\n",
       " '__ne__',\n",
       " '__new__',\n",
       " '__reduce__',\n",
       " '__reduce_ex__',\n",
       " '__repr__',\n",
       " '__setattr__',\n",
       " '__sizeof__',\n",
       " '__str__',\n",
       " '__subclasshook__',\n",
       " '__weakref__',\n",
       " 'add_length']"
      ]
     },
     "execution_count": 249,
     "metadata": {},
     "output_type": "execute_result"
    }
   ],
   "source": [
    "dir(rectangle)"
   ]
  },
  {
   "cell_type": "code",
   "execution_count": 252,
   "id": "dcb67670",
   "metadata": {},
   "outputs": [
    {
     "name": "stdout",
     "output_type": "stream",
     "text": [
      "I applied to a holiday-homes Indian startup. I got a chance to get interviewed there. I met the HR, I was given a bunch of Python questions on HackerRank platform, with Fibonacci Sequence being the toughest amongst them. \n",
      "\n",
      "I successfully completed all of those and then met another guy who took my ML interview. It went well in starting, I was talking about my learning in the field of statistics. A bunch of ML questions then. I could answer some and some I couldnâ€™t, but there was some negativity I felt from the interviewerâ€™s side, he didnâ€™t sound professional which made me somewhat less interested in this job. \n",
      "\n",
      "I had the other interview with the founder. He was a polite person, he asked me some behavioural question to judge if I was a good fit in their culture. I answered all his questions pretty honestly. He was amused by the fact that I was about to leave my highly-secure, full-time job at Fidelity for a startup. I didnâ€™t know it mattered too much for him, but I was just being honest all the times. \n",
      "\n",
      "The HR later told me that I was selected and discussed the compensation details with me. I went home telling him that Iâ€™ll let him know about my final decision the next day. The thing was, some people there didnâ€™t fit well with my work culture. I found negativity in interviewing with some. Thatâ€™s why I made the decision to let go of that offer. \n",
      "\n",
      "I gave more and more interviews. At one time I got an offer to Head the Technology of a very early-age startup. The guy was amazing, had an amazing idea, but I was not in a position to Head the tech, which had the initial focus in managing all the development-related work. I wanted to gain experience in the data domain. We became good connections and I moved on. \n"
     ]
    }
   ],
   "source": [
    "with open(\"sample.txt\",\"r\") as file1:\n",
    "    file_stuff=file1.read()\n",
    "    print(file_stuff)"
   ]
  },
  {
   "cell_type": "code",
   "execution_count": 253,
   "id": "c1c1abfa",
   "metadata": {},
   "outputs": [
    {
     "name": "stdout",
     "output_type": "stream",
     "text": [
      "True\n"
     ]
    }
   ],
   "source": [
    "print(file1.closed)"
   ]
  },
  {
   "cell_type": "code",
   "execution_count": 261,
   "id": "c4f51391",
   "metadata": {},
   "outputs": [
    {
     "name": "stdout",
     "output_type": "stream",
     "text": [
      "I applied to a holiday-homes Indian startup. I got a chance to get interviewed there. I met the HR, I was given a bunch of Python questions on HackerRank platform, with Fibonacci Sequence being the toughest amongst them. \n",
      "\n",
      "I successfully completed all of those and then met another guy who took my ML interview. It went well in starting, I was talking about my learning in the field of statistics. A bunch of ML questions then. I could answer some and some I couldnâ€™t, but there was some negativity I felt from the interviewerâ€™s side, he didnâ€™t sound professional which made me somewhat less interested in this job. \n",
      "\n",
      "I had the other interview with the founder. He was a polite person, he asked me some behavioural question to judge if I was a good fit in their culture. I answered all his questions pretty honestly. He was amused by the fact that I was about to leave my highly-secure, full-time job at Fidelity for a startup. I didnâ€™t know it mattered too much for him, but I was just being honest all the times. \n",
      "\n",
      "The HR later told me that I was selected and discussed the compensation details with me. I went home telling him that Iâ€™ll let him know about my final decision the next day. The thing was, some people there didnâ€™t fit well with my work culture. I found negativity in interviewing with some. Thatâ€™s why I made the decision to let go of that offer. \n",
      "\n",
      "I gave more and more interviews. At one time I got an offer to Head the Technology of a very early-age startup. The guy was amazing, had an amazing idea, but I was not in a position to Head the tech, which had the initial focus in managing all the development-related work. I wanted to gain experience in the data domain. We became good connections and I moved on. \n"
     ]
    }
   ],
   "source": [
    "with open(\"sample.txt\",\"r\") as file2:\n",
    "    fle= file2.read()\n",
    "    print(fle)"
   ]
  },
  {
   "cell_type": "code",
   "execution_count": 262,
   "id": "07aaf95a",
   "metadata": {},
   "outputs": [
    {
     "data": {
      "text/plain": [
       "'I applied to a holiday-homes Indian startup. I got a chance to get interviewed there. I met the HR, I was given a bunch of Python questions on HackerRank platform, with Fibonacci Sequence being the toughest amongst them. \\n\\nI successfully completed all of those and then met another guy who took my ML interview. It went well in starting, I was talking about my learning in the field of statistics. A bunch of ML questions then. I could answer some and some I couldnâ€™t, but there was some negativity I felt from the interviewerâ€™s side, he didnâ€™t sound professional which made me somewhat less interested in this job. \\n\\nI had the other interview with the founder. He was a polite person, he asked me some behavioural question to judge if I was a good fit in their culture. I answered all his questions pretty honestly. He was amused by the fact that I was about to leave my highly-secure, full-time job at Fidelity for a startup. I didnâ€™t know it mattered too much for him, but I was just being honest all the times. \\n\\nThe HR later told me that I was selected and discussed the compensation details with me. I went home telling him that Iâ€™ll let him know about my final decision the next day. The thing was, some people there didnâ€™t fit well with my work culture. I found negativity in interviewing with some. Thatâ€™s why I made the decision to let go of that offer. \\n\\nI gave more and more interviews. At one time I got an offer to Head the Technology of a very early-age startup. The guy was amazing, had an amazing idea, but I was not in a position to Head the tech, which had the initial focus in managing all the development-related work. I wanted to gain experience in the data domain. We became good connections and I moved on. '"
      ]
     },
     "execution_count": 262,
     "metadata": {},
     "output_type": "execute_result"
    }
   ],
   "source": [
    "fle"
   ]
  },
  {
   "cell_type": "code",
   "execution_count": 266,
   "id": "cb9f4d89",
   "metadata": {},
   "outputs": [
    {
     "name": "stdout",
     "output_type": "stream",
     "text": [
      "I applied to a holiday-homes Indian startup. I got a chance to get interviewed there. I met the HR, I was given a bunch of Python questions on HackerRank platform, with Fibonacci Sequence being the toughest amongst them. \n",
      "\n"
     ]
    }
   ],
   "source": [
    "with open(\"sample.txt\",\"r\") as file2:\n",
    "    fle= file2.readline()\n",
    "    print(fle)"
   ]
  },
  {
   "cell_type": "code",
   "execution_count": 268,
   "id": "db54ce50",
   "metadata": {},
   "outputs": [
    {
     "data": {
      "text/plain": [
       "True"
      ]
     },
     "execution_count": 268,
     "metadata": {},
     "output_type": "execute_result"
    }
   ],
   "source": [
    "file2.closed"
   ]
  },
  {
   "cell_type": "code",
   "execution_count": 269,
   "id": "65e00a9c",
   "metadata": {},
   "outputs": [],
   "source": [
    "# Lambda function\n",
    "\n",
    "x= lambda y: y+30"
   ]
  },
  {
   "cell_type": "code",
   "execution_count": 270,
   "id": "97b3cc06",
   "metadata": {},
   "outputs": [
    {
     "data": {
      "text/plain": [
       "40"
      ]
     },
     "execution_count": 270,
     "metadata": {},
     "output_type": "execute_result"
    }
   ],
   "source": [
    "x(10)"
   ]
  },
  {
   "cell_type": "code",
   "execution_count": 271,
   "id": "ae05db42",
   "metadata": {},
   "outputs": [],
   "source": [
    "a= lambda b,c: b*c"
   ]
  },
  {
   "cell_type": "code",
   "execution_count": 272,
   "id": "97987b1e",
   "metadata": {},
   "outputs": [
    {
     "name": "stdout",
     "output_type": "stream",
     "text": [
      "180\n"
     ]
    }
   ],
   "source": [
    "print(a(10,18))"
   ]
  },
  {
   "cell_type": "code",
   "execution_count": 273,
   "id": "195d295c",
   "metadata": {},
   "outputs": [],
   "source": [
    "z = lambda a,b,c: a+b+c"
   ]
  },
  {
   "cell_type": "code",
   "execution_count": 274,
   "id": "a8f24c28",
   "metadata": {},
   "outputs": [
    {
     "data": {
      "text/plain": [
       "126"
      ]
     },
     "execution_count": 274,
     "metadata": {},
     "output_type": "execute_result"
    }
   ],
   "source": [
    "z(18,26,82)"
   ]
  },
  {
   "cell_type": "code",
   "execution_count": 275,
   "id": "a57208a1",
   "metadata": {},
   "outputs": [],
   "source": [
    "#Map()\n",
    "\n",
    "a=[1,2,3]\n",
    "b=[8,10,7]\n",
    "\n",
    "c=list(map(lambda x,y:x+y,a,b))"
   ]
  },
  {
   "cell_type": "code",
   "execution_count": 276,
   "id": "de910565",
   "metadata": {},
   "outputs": [
    {
     "data": {
      "text/plain": [
       "[9, 12, 10]"
      ]
     },
     "execution_count": 276,
     "metadata": {},
     "output_type": "execute_result"
    }
   ],
   "source": [
    "c"
   ]
  },
  {
   "cell_type": "code",
   "execution_count": 277,
   "id": "891dfd79",
   "metadata": {},
   "outputs": [],
   "source": [
    "o=[7,4,5,8]\n",
    "p=[8,2,4,1]\n",
    "\n",
    "q = list(map(lambda x,y:x*y,o,p))"
   ]
  },
  {
   "cell_type": "code",
   "execution_count": 278,
   "id": "ac5dad47",
   "metadata": {},
   "outputs": [
    {
     "data": {
      "text/plain": [
       "[56, 8, 20, 8]"
      ]
     },
     "execution_count": 278,
     "metadata": {},
     "output_type": "execute_result"
    }
   ],
   "source": [
    "q"
   ]
  },
  {
   "cell_type": "code",
   "execution_count": 279,
   "id": "7ca042a7",
   "metadata": {},
   "outputs": [],
   "source": [
    "# Temperature conversion\n",
    "\n",
    "def fah(T):\n",
    "    return (float(9/5)*T+32)\n",
    "def cel(T):\n",
    "    return (float(5/9)*(T-32))"
   ]
  },
  {
   "cell_type": "code",
   "execution_count": 280,
   "id": "916b78a5",
   "metadata": {},
   "outputs": [],
   "source": [
    "temp=[32.4,28,26,31.7,38]"
   ]
  },
  {
   "cell_type": "code",
   "execution_count": 281,
   "id": "2f39ee20",
   "metadata": {},
   "outputs": [],
   "source": [
    "f_temps= list(map(fah,temp))"
   ]
  },
  {
   "cell_type": "code",
   "execution_count": 282,
   "id": "9208d27a",
   "metadata": {},
   "outputs": [
    {
     "data": {
      "text/plain": [
       "[90.32, 82.4, 78.80000000000001, 89.06, 100.4]"
      ]
     },
     "execution_count": 282,
     "metadata": {},
     "output_type": "execute_result"
    }
   ],
   "source": [
    "f_temps"
   ]
  },
  {
   "cell_type": "code",
   "execution_count": 283,
   "id": "f76add1f",
   "metadata": {},
   "outputs": [
    {
     "data": {
      "text/plain": [
       "[32.4,\n",
       " 28.000000000000004,\n",
       " 26.000000000000007,\n",
       " 31.700000000000003,\n",
       " 38.00000000000001]"
      ]
     },
     "execution_count": 283,
     "metadata": {},
     "output_type": "execute_result"
    }
   ],
   "source": [
    "list(map(cel,f_temps))"
   ]
  },
  {
   "cell_type": "code",
   "execution_count": 284,
   "id": "082e930c",
   "metadata": {},
   "outputs": [
    {
     "data": {
      "text/plain": [
       "[90.32, 82.4, 78.80000000000001, 89.06, 100.4]"
      ]
     },
     "execution_count": 284,
     "metadata": {},
     "output_type": "execute_result"
    }
   ],
   "source": [
    "list(map(lambda x:float(9/5)*x+32,temp))"
   ]
  },
  {
   "cell_type": "code",
   "execution_count": 285,
   "id": "96759632",
   "metadata": {},
   "outputs": [
    {
     "data": {
      "text/plain": [
       "[32.4,\n",
       " 28.000000000000004,\n",
       " 26.000000000000007,\n",
       " 31.700000000000003,\n",
       " 38.00000000000001]"
      ]
     },
     "execution_count": 285,
     "metadata": {},
     "output_type": "execute_result"
    }
   ],
   "source": [
    "list(map(lambda x:float(5/9)*(x-32),f_temps))"
   ]
  },
  {
   "cell_type": "code",
   "execution_count": 291,
   "id": "e48fb551",
   "metadata": {},
   "outputs": [],
   "source": [
    "#class\n",
    "\n",
    "class Person:\n",
    "    def __init__(self,name,surname,yob):\n",
    "        self.name = name\n",
    "        self.surname = surname\n",
    "        self.yob = yob\n",
    "        \n",
    "    def age(self,current_year):\n",
    "        return \"age is :\",current_year - self.yob\n",
    "    \n",
    "    def __str__(self):\n",
    "        return \"%s %s was born in %d\"%(self.name,self.surname,self.yob)"
   ]
  },
  {
   "cell_type": "code",
   "execution_count": 292,
   "id": "763d88fe",
   "metadata": {},
   "outputs": [],
   "source": [
    "p=Person(\"JIJIN\",\"P\",1997)"
   ]
  },
  {
   "cell_type": "code",
   "execution_count": 294,
   "id": "2f8765b6",
   "metadata": {},
   "outputs": [
    {
     "data": {
      "text/plain": [
       "('age is :', 24)"
      ]
     },
     "execution_count": 294,
     "metadata": {},
     "output_type": "execute_result"
    }
   ],
   "source": [
    "p.age(2021)"
   ]
  },
  {
   "cell_type": "code",
   "execution_count": 296,
   "id": "eadd86f2",
   "metadata": {},
   "outputs": [
    {
     "name": "stdout",
     "output_type": "stream",
     "text": [
      "JIJIN P was born in 1997\n"
     ]
    }
   ],
   "source": [
    "print(p)"
   ]
  },
  {
   "cell_type": "code",
   "execution_count": 306,
   "id": "6f1c9a0f",
   "metadata": {},
   "outputs": [],
   "source": [
    "# inheritance\n",
    "\n",
    "class Student(Person):\n",
    "    def __init__(self,name,surname,yob,student_id):\n",
    "        super().__init__(name,surname,yob)\n",
    "        self.student_id = student_id\n",
    "        \n",
    "    def __str__(self):\n",
    "        print(\"The student name is : \",self.name)"
   ]
  },
  {
   "cell_type": "code",
   "execution_count": 307,
   "id": "e884597d",
   "metadata": {},
   "outputs": [],
   "source": [
    "student= Student(\"JIJIN\",\"P\",1997,725)"
   ]
  },
  {
   "cell_type": "code",
   "execution_count": 308,
   "id": "0bab71ee",
   "metadata": {},
   "outputs": [
    {
     "data": {
      "text/plain": [
       "['__class__',\n",
       " '__delattr__',\n",
       " '__dict__',\n",
       " '__dir__',\n",
       " '__doc__',\n",
       " '__eq__',\n",
       " '__format__',\n",
       " '__ge__',\n",
       " '__getattribute__',\n",
       " '__gt__',\n",
       " '__hash__',\n",
       " '__init__',\n",
       " '__init_subclass__',\n",
       " '__le__',\n",
       " '__lt__',\n",
       " '__module__',\n",
       " '__ne__',\n",
       " '__new__',\n",
       " '__reduce__',\n",
       " '__reduce_ex__',\n",
       " '__repr__',\n",
       " '__setattr__',\n",
       " '__sizeof__',\n",
       " '__str__',\n",
       " '__subclasshook__',\n",
       " '__weakref__',\n",
       " 'age',\n",
       " 'name',\n",
       " 'student_id',\n",
       " 'surname',\n",
       " 'yob']"
      ]
     },
     "execution_count": 308,
     "metadata": {},
     "output_type": "execute_result"
    }
   ],
   "source": [
    "dir(student)"
   ]
  },
  {
   "cell_type": "code",
   "execution_count": 309,
   "id": "baccd2b1",
   "metadata": {},
   "outputs": [
    {
     "data": {
      "text/plain": [
       "('age is :', 23)"
      ]
     },
     "execution_count": 309,
     "metadata": {},
     "output_type": "execute_result"
    }
   ],
   "source": [
    "student.age(2020)"
   ]
  },
  {
   "cell_type": "code",
   "execution_count": 310,
   "id": "f870c601",
   "metadata": {},
   "outputs": [
    {
     "data": {
      "text/plain": [
       "'JIJIN'"
      ]
     },
     "execution_count": 310,
     "metadata": {},
     "output_type": "execute_result"
    }
   ],
   "source": [
    "student.name"
   ]
  },
  {
   "cell_type": "code",
   "execution_count": 311,
   "id": "5a75a14b",
   "metadata": {},
   "outputs": [
    {
     "data": {
      "text/plain": [
       "1997"
      ]
     },
     "execution_count": 311,
     "metadata": {},
     "output_type": "execute_result"
    }
   ],
   "source": [
    "student.yob"
   ]
  },
  {
   "cell_type": "code",
   "execution_count": 312,
   "id": "2c35c2f2",
   "metadata": {},
   "outputs": [
    {
     "name": "stdout",
     "output_type": "stream",
     "text": [
      "The student name is :  JIJIN\n"
     ]
    },
    {
     "ename": "TypeError",
     "evalue": "__str__ returned non-string (type NoneType)",
     "output_type": "error",
     "traceback": [
      "\u001b[1;31m---------------------------------------------------------------------------\u001b[0m",
      "\u001b[1;31mTypeError\u001b[0m                                 Traceback (most recent call last)",
      "\u001b[1;32m<ipython-input-312-0ced6e50a6bc>\u001b[0m in \u001b[0;36m<module>\u001b[1;34m\u001b[0m\n\u001b[1;32m----> 1\u001b[1;33m \u001b[0mprint\u001b[0m\u001b[1;33m(\u001b[0m\u001b[0mstudent\u001b[0m\u001b[1;33m)\u001b[0m\u001b[1;33m\u001b[0m\u001b[1;33m\u001b[0m\u001b[0m\n\u001b[0m",
      "\u001b[1;31mTypeError\u001b[0m: __str__ returned non-string (type NoneType)"
     ]
    }
   ],
   "source": [
    "print(student)"
   ]
  },
  {
   "cell_type": "code",
   "execution_count": 315,
   "id": "f6dcb702",
   "metadata": {},
   "outputs": [
    {
     "name": "stdout",
     "output_type": "stream",
     "text": [
      "<class '__main__.Student'>\n"
     ]
    }
   ],
   "source": [
    "print(type(student))"
   ]
  },
  {
   "cell_type": "code",
   "execution_count": 316,
   "id": "37fc95a9",
   "metadata": {},
   "outputs": [
    {
     "name": "stdout",
     "output_type": "stream",
     "text": [
      "True\n"
     ]
    }
   ],
   "source": [
    "print(isinstance(student,Person))"
   ]
  },
  {
   "cell_type": "code",
   "execution_count": 319,
   "id": "b32c48c9",
   "metadata": {},
   "outputs": [],
   "source": [
    "#Encapsulation  #public #private \n",
    "\n",
    "class High():\n",
    "    def __init__(self,__max,mini):\n",
    "        self.__max=__max    #private\n",
    "        self.mini=mini      #public\n",
    "\n",
    "    def speed(self):\n",
    "        print(\"The maximum speed is \",self.__max)\n",
    "        \n",
    "    def change(self,c):\n",
    "        self.__max= c"
   ]
  },
  {
   "cell_type": "code",
   "execution_count": 321,
   "id": "c0ce9a08",
   "metadata": {},
   "outputs": [],
   "source": [
    "h=High(200,140)"
   ]
  },
  {
   "cell_type": "code",
   "execution_count": 322,
   "id": "93086783",
   "metadata": {},
   "outputs": [
    {
     "data": {
      "text/plain": [
       "['_High__max',\n",
       " '__class__',\n",
       " '__delattr__',\n",
       " '__dict__',\n",
       " '__dir__',\n",
       " '__doc__',\n",
       " '__eq__',\n",
       " '__format__',\n",
       " '__ge__',\n",
       " '__getattribute__',\n",
       " '__gt__',\n",
       " '__hash__',\n",
       " '__init__',\n",
       " '__init_subclass__',\n",
       " '__le__',\n",
       " '__lt__',\n",
       " '__module__',\n",
       " '__ne__',\n",
       " '__new__',\n",
       " '__reduce__',\n",
       " '__reduce_ex__',\n",
       " '__repr__',\n",
       " '__setattr__',\n",
       " '__sizeof__',\n",
       " '__str__',\n",
       " '__subclasshook__',\n",
       " '__weakref__',\n",
       " 'change',\n",
       " 'mini',\n",
       " 'speed']"
      ]
     },
     "execution_count": 322,
     "metadata": {},
     "output_type": "execute_result"
    }
   ],
   "source": [
    "dir(h)"
   ]
  },
  {
   "cell_type": "code",
   "execution_count": 324,
   "id": "328e0962",
   "metadata": {},
   "outputs": [],
   "source": [
    "h.change(190)"
   ]
  },
  {
   "cell_type": "code",
   "execution_count": 327,
   "id": "c11c8dfe",
   "metadata": {},
   "outputs": [
    {
     "name": "stdout",
     "output_type": "stream",
     "text": [
      "The maximum speed is  190\n"
     ]
    }
   ],
   "source": [
    "h.speed()"
   ]
  },
  {
   "cell_type": "code",
   "execution_count": 328,
   "id": "ce1d457b",
   "metadata": {},
   "outputs": [],
   "source": [
    "h.change(210)"
   ]
  },
  {
   "cell_type": "code",
   "execution_count": 329,
   "id": "fec4ee19",
   "metadata": {},
   "outputs": [
    {
     "name": "stdout",
     "output_type": "stream",
     "text": [
      "The maximum speed is  210\n"
     ]
    }
   ],
   "source": [
    "h.speed()"
   ]
  },
  {
   "cell_type": "code",
   "execution_count": 330,
   "id": "9d0b8729",
   "metadata": {},
   "outputs": [],
   "source": [
    "h.mini=120"
   ]
  },
  {
   "cell_type": "code",
   "execution_count": 331,
   "id": "78c331af",
   "metadata": {},
   "outputs": [
    {
     "name": "stdout",
     "output_type": "stream",
     "text": [
      "0\n",
      "1\n",
      "2\n",
      "3\n",
      "4\n"
     ]
    }
   ],
   "source": [
    "#looping\n",
    "\n",
    "i=0\n",
    "while(i<5):\n",
    "    print(i)\n",
    "    i=i+1"
   ]
  },
  {
   "cell_type": "code",
   "execution_count": 334,
   "id": "08d1bd7c",
   "metadata": {},
   "outputs": [
    {
     "name": "stdout",
     "output_type": "stream",
     "text": [
      "0 1 2 3 4 5 6 7 8 9 "
     ]
    }
   ],
   "source": [
    "i=0\n",
    "while(i<20):\n",
    "    print(i//2,end=\" \")\n",
    "    i=i+2"
   ]
  },
  {
   "cell_type": "code",
   "execution_count": 341,
   "id": "13305fad",
   "metadata": {},
   "outputs": [],
   "source": [
    "#Basic methods\n",
    "\n",
    "A= \"jijin abhishek arun\""
   ]
  },
  {
   "cell_type": "code",
   "execution_count": 342,
   "id": "647951eb",
   "metadata": {},
   "outputs": [
    {
     "data": {
      "text/plain": [
       "['jijin', 'abhishek', 'arun']"
      ]
     },
     "execution_count": 342,
     "metadata": {},
     "output_type": "execute_result"
    }
   ],
   "source": [
    "A.split()"
   ]
  },
  {
   "cell_type": "code",
   "execution_count": 343,
   "id": "62d8d615",
   "metadata": {},
   "outputs": [
    {
     "data": {
      "text/plain": [
       "'JIJIN ABHISHEK ARUN'"
      ]
     },
     "execution_count": 343,
     "metadata": {},
     "output_type": "execute_result"
    }
   ],
   "source": [
    "A.swapcase()"
   ]
  },
  {
   "cell_type": "code",
   "execution_count": 345,
   "id": "c8e131c7",
   "metadata": {},
   "outputs": [
    {
     "data": {
      "text/plain": [
       "'jijin abhishek arun'"
      ]
     },
     "execution_count": 345,
     "metadata": {},
     "output_type": "execute_result"
    }
   ],
   "source": [
    "A.lower()"
   ]
  },
  {
   "cell_type": "code",
   "execution_count": 346,
   "id": "192c4112",
   "metadata": {},
   "outputs": [
    {
     "data": {
      "text/plain": [
       "'JIJIN ABHISHEK ARUN'"
      ]
     },
     "execution_count": 346,
     "metadata": {},
     "output_type": "execute_result"
    }
   ],
   "source": [
    "A.upper()"
   ]
  },
  {
   "cell_type": "code",
   "execution_count": 347,
   "id": "b9a20b50",
   "metadata": {},
   "outputs": [
    {
     "data": {
      "text/plain": [
       "False"
      ]
     },
     "execution_count": 347,
     "metadata": {},
     "output_type": "execute_result"
    }
   ],
   "source": [
    "A.isdigit()"
   ]
  },
  {
   "cell_type": "code",
   "execution_count": 348,
   "id": "2c03dd7e",
   "metadata": {},
   "outputs": [
    {
     "data": {
      "text/plain": [
       "False"
      ]
     },
     "execution_count": 348,
     "metadata": {},
     "output_type": "execute_result"
    }
   ],
   "source": [
    "A.isalpha()"
   ]
  },
  {
   "cell_type": "code",
   "execution_count": 349,
   "id": "96bc039f",
   "metadata": {},
   "outputs": [],
   "source": [
    "a= \"j\""
   ]
  },
  {
   "cell_type": "code",
   "execution_count": 350,
   "id": "344f1532",
   "metadata": {},
   "outputs": [
    {
     "data": {
      "text/plain": [
       "True"
      ]
     },
     "execution_count": 350,
     "metadata": {},
     "output_type": "execute_result"
    }
   ],
   "source": [
    "a.isalpha()"
   ]
  },
  {
   "cell_type": "code",
   "execution_count": 351,
   "id": "bce3958f",
   "metadata": {},
   "outputs": [
    {
     "data": {
      "text/plain": [
       "'jijinshweta'"
      ]
     },
     "execution_count": 351,
     "metadata": {},
     "output_type": "execute_result"
    }
   ],
   "source": [
    "\"jijin\" + \"shweta\""
   ]
  },
  {
   "cell_type": "code",
   "execution_count": 353,
   "id": "97980e08",
   "metadata": {},
   "outputs": [
    {
     "name": "stdout",
     "output_type": "stream",
     "text": [
      "The command is  hi  and  Hello\n",
      "The command is hi and Hello \n",
      "The command is Hello and hi \n",
      "The command is hi and Hello\n"
     ]
    }
   ],
   "source": [
    "#Format function\n",
    "\n",
    "A=\"hi\"\n",
    "B=\"Hello\"\n",
    "\n",
    "print(\"The command is \",A, \" and \",B)\n",
    "print(\"The command is %s and %s \"%(A,B))\n",
    "print(\"The command is {1} and {0} \".format(A,B))\n",
    "print(\"The command is {0} and {1}\".format(A,B))"
   ]
  },
  {
   "cell_type": "code",
   "execution_count": 354,
   "id": "fe2b8c70",
   "metadata": {},
   "outputs": [],
   "source": [
    "#Min()\n",
    "k = [40,90,22,78,30,67]"
   ]
  },
  {
   "cell_type": "code",
   "execution_count": 355,
   "id": "7074ebb9",
   "metadata": {},
   "outputs": [
    {
     "data": {
      "text/plain": [
       "22"
      ]
     },
     "execution_count": 355,
     "metadata": {},
     "output_type": "execute_result"
    }
   ],
   "source": [
    "min(k)"
   ]
  },
  {
   "cell_type": "code",
   "execution_count": 356,
   "id": "a011145c",
   "metadata": {},
   "outputs": [
    {
     "data": {
      "text/plain": [
       "90"
      ]
     },
     "execution_count": 356,
     "metadata": {},
     "output_type": "execute_result"
    }
   ],
   "source": [
    "max(k)"
   ]
  },
  {
   "cell_type": "code",
   "execution_count": 358,
   "id": "eede2f5e",
   "metadata": {},
   "outputs": [
    {
     "data": {
      "text/plain": [
       "6"
      ]
     },
     "execution_count": 358,
     "metadata": {},
     "output_type": "execute_result"
    }
   ],
   "source": [
    "len(k)"
   ]
  },
  {
   "cell_type": "code",
   "execution_count": 362,
   "id": "8d855e21",
   "metadata": {},
   "outputs": [],
   "source": [
    "def add(*x):\n",
    "    return sum(x)"
   ]
  },
  {
   "cell_type": "code",
   "execution_count": 363,
   "id": "54464c45",
   "metadata": {},
   "outputs": [
    {
     "data": {
      "text/plain": [
       "12"
      ]
     },
     "execution_count": 363,
     "metadata": {},
     "output_type": "execute_result"
    }
   ],
   "source": [
    "add(3,4,5)"
   ]
  },
  {
   "cell_type": "code",
   "execution_count": 364,
   "id": "96031707",
   "metadata": {},
   "outputs": [],
   "source": [
    "m=[35.20000000000001, 36.5, 37.300000000000004, 38.00000000000001, 39.800000000000004]"
   ]
  },
  {
   "cell_type": "code",
   "execution_count": 367,
   "id": "0b30d8c4",
   "metadata": {},
   "outputs": [],
   "source": [
    "n=[round(x,2) for x in m]"
   ]
  },
  {
   "cell_type": "code",
   "execution_count": 368,
   "id": "8f7e43a9",
   "metadata": {},
   "outputs": [
    {
     "data": {
      "text/plain": [
       "[35.2, 36.5, 37.3, 38.0, 39.8]"
      ]
     },
     "execution_count": 368,
     "metadata": {},
     "output_type": "execute_result"
    }
   ],
   "source": [
    "n"
   ]
  },
  {
   "cell_type": "code",
   "execution_count": 369,
   "id": "5aac6269",
   "metadata": {},
   "outputs": [],
   "source": [
    "o=['%2f'%j for j in m]"
   ]
  },
  {
   "cell_type": "code",
   "execution_count": 370,
   "id": "2458c9e6",
   "metadata": {},
   "outputs": [
    {
     "data": {
      "text/plain": [
       "['35.200000', '36.500000', '37.300000', '38.000000', '39.800000']"
      ]
     },
     "execution_count": 370,
     "metadata": {},
     "output_type": "execute_result"
    }
   ],
   "source": [
    "o"
   ]
  },
  {
   "cell_type": "code",
   "execution_count": 371,
   "id": "a7b89b18",
   "metadata": {},
   "outputs": [],
   "source": [
    "#filter function\n",
    "\n",
    "x=[1,2,3,4,45]\n",
    "l=list(filter(lambda y: y>2, x))"
   ]
  },
  {
   "cell_type": "code",
   "execution_count": 372,
   "id": "a9cf4f59",
   "metadata": {},
   "outputs": [
    {
     "data": {
      "text/plain": [
       "[3, 4, 45]"
      ]
     },
     "execution_count": 372,
     "metadata": {},
     "output_type": "execute_result"
    }
   ],
   "source": [
    "l"
   ]
  },
  {
   "cell_type": "code",
   "execution_count": 390,
   "id": "8126e442",
   "metadata": {},
   "outputs": [
    {
     "name": "stdout",
     "output_type": "stream",
     "text": [
      "sum of 3 and 4 is 7\n",
      "This is main function\n"
     ]
    }
   ],
   "source": [
    "def add(x,y):\n",
    "    c=x+y\n",
    "    print(\"sum of %d and %d is %d\"%(x,y,c))\n",
    "\n",
    "def main():\n",
    "    add(3,4)\n",
    "    print(\"This is main function\")\n",
    "    \n",
    "    \n",
    "if __name__ ==\"__main__\":\n",
    "    main()"
   ]
  },
  {
   "cell_type": "code",
   "execution_count": 392,
   "id": "851dc59f",
   "metadata": {},
   "outputs": [],
   "source": [
    "# classes \n",
    "\n",
    "class Company:\n",
    "    revenue= 80000\n",
    "    \n",
    "    def __init__(self,name,location,no_of_employees):\n",
    "        self.name = name\n",
    "        self.location = location\n",
    "        self.no_of_employees = no_of_employees\n",
    "    "
   ]
  },
  {
   "cell_type": "code",
   "execution_count": 393,
   "id": "eea92234",
   "metadata": {},
   "outputs": [],
   "source": [
    "c=Company(\"George\",\"New York\",\"400\")"
   ]
  },
  {
   "cell_type": "code",
   "execution_count": 394,
   "id": "c0a0e635",
   "metadata": {},
   "outputs": [
    {
     "data": {
      "text/plain": [
       "'George'"
      ]
     },
     "execution_count": 394,
     "metadata": {},
     "output_type": "execute_result"
    }
   ],
   "source": [
    "c.name"
   ]
  },
  {
   "cell_type": "code",
   "execution_count": 395,
   "id": "63dc85ed",
   "metadata": {},
   "outputs": [
    {
     "data": {
      "text/plain": [
       "'New York'"
      ]
     },
     "execution_count": 395,
     "metadata": {},
     "output_type": "execute_result"
    }
   ],
   "source": [
    "c.location"
   ]
  },
  {
   "cell_type": "code",
   "execution_count": 396,
   "id": "7a126864",
   "metadata": {},
   "outputs": [
    {
     "data": {
      "text/plain": [
       "'400'"
      ]
     },
     "execution_count": 396,
     "metadata": {},
     "output_type": "execute_result"
    }
   ],
   "source": [
    "c.no_of_employees"
   ]
  },
  {
   "cell_type": "code",
   "execution_count": 397,
   "id": "0ccf4691",
   "metadata": {},
   "outputs": [
    {
     "data": {
      "text/plain": [
       "80000"
      ]
     },
     "execution_count": 397,
     "metadata": {},
     "output_type": "execute_result"
    }
   ],
   "source": [
    "c.revenue"
   ]
  },
  {
   "cell_type": "code",
   "execution_count": 406,
   "id": "4c3e6e7c",
   "metadata": {},
   "outputs": [],
   "source": [
    "\n",
    "\n",
    "class Car:\n",
    "    def __init__(self,brand,color,model):\n",
    "        self.brand=brand\n",
    "        self.color=color\n",
    "        self.model=model\n",
    "        \n",
    "    def getdata(self,brand,color):\n",
    "        print(\"get data called\")\n",
    "        self.brand=brand\n",
    "        self.color=color\n",
    "        \n",
    "    def display(self):\n",
    "        print(\"The %s %s car is of %s model\"%(self.color,self.brand,self.model))\n",
    "\n",
    "        "
   ]
  },
  {
   "cell_type": "code",
   "execution_count": 407,
   "id": "0c21d895",
   "metadata": {},
   "outputs": [],
   "source": [
    "car= Car(\"Ferrari\",\"Red\",\"Sedan\")"
   ]
  },
  {
   "cell_type": "code",
   "execution_count": 408,
   "id": "eb4996ec",
   "metadata": {},
   "outputs": [
    {
     "data": {
      "text/plain": [
       "'Ferrari'"
      ]
     },
     "execution_count": 408,
     "metadata": {},
     "output_type": "execute_result"
    }
   ],
   "source": [
    "car.brand"
   ]
  },
  {
   "cell_type": "code",
   "execution_count": 409,
   "id": "d118fc5b",
   "metadata": {},
   "outputs": [
    {
     "data": {
      "text/plain": [
       "'Sedan'"
      ]
     },
     "execution_count": 409,
     "metadata": {},
     "output_type": "execute_result"
    }
   ],
   "source": [
    "car.model"
   ]
  },
  {
   "cell_type": "code",
   "execution_count": 410,
   "id": "11b03f42",
   "metadata": {},
   "outputs": [
    {
     "data": {
      "text/plain": [
       "['__class__',\n",
       " '__delattr__',\n",
       " '__dict__',\n",
       " '__dir__',\n",
       " '__doc__',\n",
       " '__eq__',\n",
       " '__format__',\n",
       " '__ge__',\n",
       " '__getattribute__',\n",
       " '__gt__',\n",
       " '__hash__',\n",
       " '__init__',\n",
       " '__init_subclass__',\n",
       " '__le__',\n",
       " '__lt__',\n",
       " '__module__',\n",
       " '__ne__',\n",
       " '__new__',\n",
       " '__reduce__',\n",
       " '__reduce_ex__',\n",
       " '__repr__',\n",
       " '__setattr__',\n",
       " '__sizeof__',\n",
       " '__str__',\n",
       " '__subclasshook__',\n",
       " '__weakref__',\n",
       " 'brand',\n",
       " 'color',\n",
       " 'display',\n",
       " 'getdata',\n",
       " 'model']"
      ]
     },
     "execution_count": 410,
     "metadata": {},
     "output_type": "execute_result"
    }
   ],
   "source": [
    "dir(car)"
   ]
  },
  {
   "cell_type": "code",
   "execution_count": 411,
   "id": "4779a11d",
   "metadata": {},
   "outputs": [
    {
     "name": "stdout",
     "output_type": "stream",
     "text": [
      "The Red Ferrari car is of Sedan model\n"
     ]
    }
   ],
   "source": [
    "car.display()"
   ]
  },
  {
   "cell_type": "code",
   "execution_count": 412,
   "id": "0d162669",
   "metadata": {},
   "outputs": [
    {
     "data": {
      "text/plain": [
       "'Ferrari'"
      ]
     },
     "execution_count": 412,
     "metadata": {},
     "output_type": "execute_result"
    }
   ],
   "source": [
    "car.brand"
   ]
  },
  {
   "cell_type": "code",
   "execution_count": 414,
   "id": "822e6504",
   "metadata": {},
   "outputs": [
    {
     "name": "stdout",
     "output_type": "stream",
     "text": [
      "get data called\n"
     ]
    }
   ],
   "source": [
    "car.getdata(\"Porsche\",\"black\")"
   ]
  },
  {
   "cell_type": "code",
   "execution_count": 415,
   "id": "b656bf7b",
   "metadata": {},
   "outputs": [
    {
     "name": "stdout",
     "output_type": "stream",
     "text": [
      "The black Porsche car is of Sedan model\n"
     ]
    }
   ],
   "source": [
    "car.display()"
   ]
  },
  {
   "cell_type": "code",
   "execution_count": 418,
   "id": "b94f7275",
   "metadata": {},
   "outputs": [],
   "source": [
    "#inheritance sub class.. base class is car\n",
    "\n",
    "class Luxury(Car):\n",
    "    def __init__(self,brand,color,model,speed):\n",
    "        super().__init__(brand,color,model)\n",
    "        self.speed = speed\n",
    "    "
   ]
  },
  {
   "cell_type": "code",
   "execution_count": 419,
   "id": "439c400f",
   "metadata": {},
   "outputs": [],
   "source": [
    "L= Luxury(\"Ford\",\"Blue\",\"Hatchback\",\"150 kmph\")"
   ]
  },
  {
   "cell_type": "code",
   "execution_count": 420,
   "id": "26627b31",
   "metadata": {},
   "outputs": [
    {
     "data": {
      "text/plain": [
       "['__class__',\n",
       " '__delattr__',\n",
       " '__dict__',\n",
       " '__dir__',\n",
       " '__doc__',\n",
       " '__eq__',\n",
       " '__format__',\n",
       " '__ge__',\n",
       " '__getattribute__',\n",
       " '__gt__',\n",
       " '__hash__',\n",
       " '__init__',\n",
       " '__init_subclass__',\n",
       " '__le__',\n",
       " '__lt__',\n",
       " '__module__',\n",
       " '__ne__',\n",
       " '__new__',\n",
       " '__reduce__',\n",
       " '__reduce_ex__',\n",
       " '__repr__',\n",
       " '__setattr__',\n",
       " '__sizeof__',\n",
       " '__str__',\n",
       " '__subclasshook__',\n",
       " '__weakref__',\n",
       " 'brand',\n",
       " 'color',\n",
       " 'display',\n",
       " 'getdata',\n",
       " 'model',\n",
       " 'speed']"
      ]
     },
     "execution_count": 420,
     "metadata": {},
     "output_type": "execute_result"
    }
   ],
   "source": [
    "dir(L)"
   ]
  },
  {
   "cell_type": "code",
   "execution_count": 421,
   "id": "0123397d",
   "metadata": {},
   "outputs": [
    {
     "name": "stdout",
     "output_type": "stream",
     "text": [
      "The Blue Ford car is of Hatchback model\n"
     ]
    }
   ],
   "source": [
    "L.display()"
   ]
  },
  {
   "cell_type": "code",
   "execution_count": 422,
   "id": "a80ec80c",
   "metadata": {},
   "outputs": [
    {
     "data": {
      "text/plain": [
       "'150 kmph'"
      ]
     },
     "execution_count": 422,
     "metadata": {},
     "output_type": "execute_result"
    }
   ],
   "source": [
    "L.speed"
   ]
  },
  {
   "cell_type": "code",
   "execution_count": 423,
   "id": "1ddacb1f",
   "metadata": {},
   "outputs": [
    {
     "data": {
      "text/plain": [
       "True"
      ]
     },
     "execution_count": 423,
     "metadata": {},
     "output_type": "execute_result"
    }
   ],
   "source": [
    "isinstance(L,Car)"
   ]
  },
  {
   "cell_type": "code",
   "execution_count": 424,
   "id": "9f39f3e8",
   "metadata": {},
   "outputs": [],
   "source": [
    "#Modules"
   ]
  },
  {
   "cell_type": "code",
   "execution_count": 425,
   "id": "051c0e8b",
   "metadata": {},
   "outputs": [],
   "source": [
    "import keyword"
   ]
  },
  {
   "cell_type": "code",
   "execution_count": 426,
   "id": "2896a123",
   "metadata": {},
   "outputs": [
    {
     "data": {
      "text/plain": [
       "['False',\n",
       " 'None',\n",
       " 'True',\n",
       " 'and',\n",
       " 'as',\n",
       " 'assert',\n",
       " 'async',\n",
       " 'await',\n",
       " 'break',\n",
       " 'class',\n",
       " 'continue',\n",
       " 'def',\n",
       " 'del',\n",
       " 'elif',\n",
       " 'else',\n",
       " 'except',\n",
       " 'finally',\n",
       " 'for',\n",
       " 'from',\n",
       " 'global',\n",
       " 'if',\n",
       " 'import',\n",
       " 'in',\n",
       " 'is',\n",
       " 'lambda',\n",
       " 'nonlocal',\n",
       " 'not',\n",
       " 'or',\n",
       " 'pass',\n",
       " 'raise',\n",
       " 'return',\n",
       " 'try',\n",
       " 'while',\n",
       " 'with',\n",
       " 'yield']"
      ]
     },
     "execution_count": 426,
     "metadata": {},
     "output_type": "execute_result"
    }
   ],
   "source": [
    "keyword.kwlist"
   ]
  },
  {
   "cell_type": "code",
   "execution_count": 427,
   "id": "6ea4c830",
   "metadata": {},
   "outputs": [],
   "source": [
    "import sys"
   ]
  },
  {
   "cell_type": "code",
   "execution_count": 428,
   "id": "291a78cc",
   "metadata": {},
   "outputs": [
    {
     "data": {
      "text/plain": [
       "['C:\\\\Users\\\\jijin',\n",
       " 'C:\\\\Users\\\\jijin\\\\anaconda3\\\\python38.zip',\n",
       " 'C:\\\\Users\\\\jijin\\\\anaconda3\\\\DLLs',\n",
       " 'C:\\\\Users\\\\jijin\\\\anaconda3\\\\lib',\n",
       " 'C:\\\\Users\\\\jijin\\\\anaconda3',\n",
       " '',\n",
       " 'C:\\\\Users\\\\jijin\\\\anaconda3\\\\lib\\\\site-packages',\n",
       " 'C:\\\\Users\\\\jijin\\\\anaconda3\\\\lib\\\\site-packages\\\\locket-0.2.1-py3.8.egg',\n",
       " 'C:\\\\Users\\\\jijin\\\\anaconda3\\\\lib\\\\site-packages\\\\win32',\n",
       " 'C:\\\\Users\\\\jijin\\\\anaconda3\\\\lib\\\\site-packages\\\\win32\\\\lib',\n",
       " 'C:\\\\Users\\\\jijin\\\\anaconda3\\\\lib\\\\site-packages\\\\Pythonwin',\n",
       " 'C:\\\\Users\\\\jijin\\\\anaconda3\\\\lib\\\\site-packages\\\\IPython\\\\extensions',\n",
       " 'C:\\\\Users\\\\jijin\\\\.ipython']"
      ]
     },
     "execution_count": 428,
     "metadata": {},
     "output_type": "execute_result"
    }
   ],
   "source": [
    "sys.path"
   ]
  },
  {
   "cell_type": "code",
   "execution_count": 429,
   "id": "d811fe3b",
   "metadata": {},
   "outputs": [],
   "source": [
    "import os"
   ]
  },
  {
   "cell_type": "code",
   "execution_count": 432,
   "id": "2981e4df",
   "metadata": {},
   "outputs": [
    {
     "data": {
      "text/plain": [
       "'C:\\\\Users\\\\jijin'"
      ]
     },
     "execution_count": 432,
     "metadata": {},
     "output_type": "execute_result"
    }
   ],
   "source": [
    "os.getcwd()"
   ]
  },
  {
   "cell_type": "code",
   "execution_count": 433,
   "id": "fa1e671d",
   "metadata": {},
   "outputs": [
    {
     "data": {
      "text/plain": [
       "['.conda',\n",
       " '.condarc',\n",
       " '.continuum',\n",
       " '.dotnet',\n",
       " '.ipynb_checkpoints',\n",
       " '.ipython',\n",
       " '.jupyter',\n",
       " '.matplotlib',\n",
       " '.pipwin',\n",
       " '.spyder-py3',\n",
       " '.ssh',\n",
       " '.~Times of india-Part 2-feb 6-10.ipynb',\n",
       " '1 Laptop Ratings and Reviews final.csv',\n",
       " '1 Phones Ratings and Reviews final.csv',\n",
       " '2. smart watches Ratings and Reviews final.csv',\n",
       " '20000 Ratings and Reviews final.csv',\n",
       " '20000 Ratings and Reviews.csv',\n",
       " '3. Monitors Ratings and Reviews final.csv',\n",
       " '3D Objects',\n",
       " 'advertising.csv',\n",
       " 'ad_mushroom_prediction.obj',\n",
       " 'anaconda3',\n",
       " 'AppData',\n",
       " 'Application Data',\n",
       " 'Audio to text NLP Project_JP.ipynb',\n",
       " 'Avocado_Evaluation_Project2_JIJIN_DT-checkpoint.ipynb',\n",
       " 'Baseball_Evaluation_Project1_JIJIN_DT-checkpoint.ipynb',\n",
       " 'brainsize.csv',\n",
       " 'BullseyeCoverageError.txt',\n",
       " 'Cameras Ratings and Reviews final.csv',\n",
       " 'car dheko web scrapping-Copy1.ipynb',\n",
       " 'car dheko web scrapping-Copy2.ipynb',\n",
       " 'car dheko web scrapping-Copy3.ipynb',\n",
       " 'car dheko web scrapping-Copy4.ipynb',\n",
       " 'car dheko web scrapping.ipynb',\n",
       " 'cardheko cars 1 original.csv',\n",
       " 'cardheko cars 2 original.csv',\n",
       " 'cardheko cars 3 original.csv',\n",
       " 'Car_Price_Prediction_Results.csv',\n",
       " 'Car_Price_Project.pkl',\n",
       " 'Census_Income_Prediction_Evaluation_Project 5_JIJIN_DT-checkpoint.ipynb',\n",
       " 'china_gdp.csv',\n",
       " 'chromedriver.exe',\n",
       " 'Class_8_classcontinuation_and_IO_file_operations (1).ipynb',\n",
       " 'class_basiccall_func_practise.ipynb',\n",
       " 'combining csv-Deccan.ipynb',\n",
       " 'combining csv-ET.ipynb',\n",
       " 'combining csv-Hindu 2.ipynb',\n",
       " 'combining csv-olx.ipynb',\n",
       " 'combining csv.ipynb',\n",
       " 'Contacts',\n",
       " 'Cookies',\n",
       " 'Creating_maps_using_folium (1).ipynb',\n",
       " 'cr_encoded.xlsx',\n",
       " 'cr_normal.xlsx',\n",
       " 'Customer Churn Analysis Prediction_Project8_JIJIN_DT-checkpoint.ipynb',\n",
       " 'Customer_retention_Project_JIJIN_INT-15Fliprobo.ipynb',\n",
       " 'Deccan herald day 1-Copy10.ipynb',\n",
       " 'Deccan herald day 1-Copy11.ipynb',\n",
       " 'Deccan herald day 1-Copy12.ipynb',\n",
       " 'Deccan herald day 1-Copy13.ipynb',\n",
       " 'Deccan herald day 1-Copy14.ipynb',\n",
       " 'Deccan herald day 1-Copy15.ipynb',\n",
       " 'Deccan herald day 1-Copy16.ipynb',\n",
       " 'Deccan herald day 1-Copy17.ipynb',\n",
       " 'Deccan herald day 1-Copy18.ipynb',\n",
       " 'Deccan herald day 1-Copy19.ipynb',\n",
       " 'Deccan herald day 1-Copy20.ipynb',\n",
       " 'Deccan herald day 1-Copy5.ipynb',\n",
       " 'Deccan herald day 1-Copy6.ipynb',\n",
       " 'Deccan herald day 1-Copy7.ipynb',\n",
       " 'Deccan herald day 1-Copy8.ipynb',\n",
       " 'Deccan herald day 1-Copy9.ipynb',\n",
       " 'Deccan herald day 1_Sample code_JIJIN P_Intern 15.ipynb',\n",
       " 'Deccan herald day 2.ipynb',\n",
       " 'Deccan herald day 3.ipynb',\n",
       " 'Deccan herald day 4.ipynb',\n",
       " 'Deccan herald day 5.ipynb',\n",
       " 'Deccan News data scraped Nov 2018.csv',\n",
       " 'deccan1.csv',\n",
       " 'deccan10.csv',\n",
       " 'deccan11.csv',\n",
       " 'deccan12.csv',\n",
       " 'deccan13.csv',\n",
       " 'deccan14.csv',\n",
       " 'deccan15.csv',\n",
       " 'deccan16.csv',\n",
       " 'deccan17.csv',\n",
       " 'deccan18.csv',\n",
       " 'deccan19.csv',\n",
       " 'deccan2.csv',\n",
       " 'deccan20.csv',\n",
       " 'deccan21.csv',\n",
       " 'deccan22.csv',\n",
       " 'deccan23.csv',\n",
       " 'deccan24.csv',\n",
       " 'deccan25.csv',\n",
       " 'deccan26.csv',\n",
       " 'deccan27.csv',\n",
       " 'deccan28.csv',\n",
       " 'deccan29.csv',\n",
       " 'deccan3.csv',\n",
       " 'deccan30.csv',\n",
       " 'deccan4.csv',\n",
       " 'deccan5.csv',\n",
       " 'deccan6.csv',\n",
       " 'deccan7.csv',\n",
       " 'deccan8.csv',\n",
       " 'deccan9.csv',\n",
       " 'dectsfile.txt',\n",
       " 'Desktop',\n",
       " 'desktop.ipynb',\n",
       " 'Doctor Consultation fees-checkpoint.ipynb',\n",
       " \"Doctor's_Consultation_Fees_Prediction_Evaluation_Project_4_JIJIN_DT-checkpoint.ipynb\",\n",
       " 'Doctor_consulting_fees_2-checkpoint.ipynb',\n",
       " 'Documents',\n",
       " 'Downloads',\n",
       " 'Dropbox',\n",
       " 'drug200.csv',\n",
       " 'Economic times Apriln 2019.csv',\n",
       " 'Economic times part1.csv',\n",
       " 'Economic times part2.csv',\n",
       " 'Economic times part3.csv',\n",
       " 'Economic times part4.csv',\n",
       " 'EDA_WINE_EQUALITY_20FEB (1).ipynb',\n",
       " 'empl.csv',\n",
       " 'english to tamil mic to text convertor Project_NLP_JP.ipynb',\n",
       " 'fair_practise_microcredit.ipynb',\n",
       " 'Favorites',\n",
       " 'Final Reviews and Ratings.csv',\n",
       " 'Flight price data_web scraping_sample code.ipynb',\n",
       " 'Flight Price Prediction_Evaluation_Project 7_JIJIN_DT-checkpoint.ipynb',\n",
       " 'Flight_Price.csv',\n",
       " 'Flip_robo_Flight Price Prediction_JIJIN P_INTERN 15.ipynb',\n",
       " 'flower (1)',\n",
       " 'FuelConsumption.csv',\n",
       " 'happiness.csv',\n",
       " 'Headphones Ratings and Reviews final.csv',\n",
       " 'Hindu News data scraped oct 2015.csv',\n",
       " 'Hindu News data scraped SEP 2020.csv',\n",
       " 'Hindu oct 2015 part1.csv',\n",
       " 'Hindu oct 2015 part2.csv',\n",
       " 'Hindu oct 2015 part3.csv',\n",
       " 'Hindu oct 2015 part4.csv',\n",
       " 'Hindu oct 2015 part5.csv',\n",
       " 'Hindu part1.csv',\n",
       " 'Hindu part2.csv',\n",
       " 'Hindu part3.csv',\n",
       " 'Hindu part4.csv',\n",
       " 'Hindu part5.csv',\n",
       " 'Home theatre Ratings and Reviews final.csv',\n",
       " 'HR_attrition_Evaluation_Project3_JIJIN_DT-checkpoint.ipynb',\n",
       " 'HR_attrition_rate.csv',\n",
       " 'IBM10_RECONTENT BASED RECOMMENDING_ML0101EN-RecSys-Content-Based-movies-py-v1.ipynb',\n",
       " 'IBM11_Collabrative recoomender_ML0101EN-RecSys-Collaborative-Filtering-movies-py-v1.ipynb',\n",
       " 'IBM1_ML0101EN-Reg-Simple-Linear-Regression-Co2-py-v1.ipynb',\n",
       " 'IBM2-NON LINEAR ML0101EN-Reg-NoneLinearRegression-py-v1.ipynb',\n",
       " 'IBM3_KNN_ML0101EN-Clas-K-Nearest-neighbors-CustCat-py-v1.ipynb',\n",
       " 'IBM4_ML0101EN-Clas-Decision-Trees-drug-py-v1.ipynb',\n",
       " 'IBM5_LOGISTIC REG_ML0101EN-Clas-Logistic-Reg-churn-py-v1.ipynb',\n",
       " 'IBM6_SVM_ML0101EN-Clas-SVM-cancer-py-v1.ipynb',\n",
       " 'IBM7_KMeansUNSupervised_ML0101EN-Clus-K-Means-Customer-Seg-py-v1.ipynb',\n",
       " 'IBM8_Hierarichal_unspervised_ML0101EN-Clus-Hierarchical-Cars-py-v1.ipynb',\n",
       " 'IBM9_DBSCAN_ML0101EN-Clus-DBSCN-weather-py-v1.ipynb',\n",
       " 'importing empl data.ipynb',\n",
       " 'Insurance Claims- Fraud Detection  Prediction_Project10_JIJIN_DT-checkpoint.ipynb',\n",
       " 'Internship_micro-credit.ipynb',\n",
       " 'internship_micro_credit_report.docx',\n",
       " 'Iris.csv',\n",
       " 'Jedi',\n",
       " 'Jijin P Internship 15 Car Price Prediction Project.ipynb',\n",
       " 'JIJIN_INTENSHIP-15_Housing Price - Project 2 .ipynb',\n",
       " 'Krishna Project.ipynb',\n",
       " 'Language Translator using textblob Application_NLP_JP.ipynb',\n",
       " 'laptops Ratings and Reviews final.csv',\n",
       " 'Links',\n",
       " 'linr_HappinessScore_prediction.obj',\n",
       " 'list_example_practise.ipynb',\n",
       " 'Loan Application Status Prediction_Evaluation_Project 6_JIJIN_DT-checkpoint.ipynb',\n",
       " 'Loan_Application_status-checkpoint.ipynb',\n",
       " 'Local Settings',\n",
       " 'marks.csv',\n",
       " 'micro-credit.ipynb',\n",
       " 'Microsoft',\n",
       " 'micro_credit2.ipynb',\n",
       " 'ML_practise.ipynb',\n",
       " 'Model_creation_on_overpass.ipynb',\n",
       " 'mushroom.csv',\n",
       " 'mushroom_project2 (1).ipynb',\n",
       " 'mushroom_project2.ipynb',\n",
       " 'Music',\n",
       " 'My Documents',\n",
       " 'My first Chat bot Project_NLP_LP.ipynb',\n",
       " 'my olx workbook.ipynb',\n",
       " 'mydatabase.db',\n",
       " 'Natural Language Processing _ Basic_JIJIN P.ipynb',\n",
       " 'NetHood',\n",
       " 'News data scraped FEB 2018',\n",
       " 'News data scraped FEB 2018.csv',\n",
       " 'NLP GENISM_JIJINP.ipynb',\n",
       " 'NTUSER.DAT',\n",
       " 'ntuser.dat.LOG1',\n",
       " 'ntuser.dat.LOG2',\n",
       " 'NTUSER.DAT{96723f2b-d46d-11eb-8d6b-f85ea0565c33}.TM.blf',\n",
       " 'NTUSER.DAT{96723f2b-d46d-11eb-8d6b-f85ea0565c33}.TMContainer00000000000000000001.regtrans-ms',\n",
       " 'NTUSER.DAT{96723f2b-d46d-11eb-8d6b-f85ea0565c33}.TMContainer00000000000000000002.regtrans-ms',\n",
       " 'ntuser.ini',\n",
       " 'Numpy_Stats_smallfunc_practise (1).ipynb',\n",
       " 'olx cars 1 original.csv',\n",
       " 'olx cars 2 original.csv',\n",
       " 'olx cars 3 original.csv',\n",
       " 'olx cars 4 original.csv',\n",
       " 'olx cars 5 original.csv',\n",
       " 'olx cars part1.csv',\n",
       " 'olx cars part2.csv',\n",
       " 'olx cars part3.csv',\n",
       " 'olx cars part4.csv',\n",
       " 'olx cars part5.csv',\n",
       " 'olx old cars.csv',\n",
       " 'Olx used cars.csv',\n",
       " 'olx web scrapping-bengaluru -2.ipynb',\n",
       " 'olx web scrapping-chennai -3.ipynb',\n",
       " 'olx web scrapping-delhi-4.ipynb',\n",
       " 'olx web scrapping-kerala-5.ipynb',\n",
       " 'olx web scrapping-specified1-Copy1.ipynb',\n",
       " 'olx web scrapping-specified1-Copy2.ipynb',\n",
       " 'olx web scrapping-specified1-Copy3.ipynb',\n",
       " 'olx web scrapping-specified1.ipynb',\n",
       " 'olx web scrapping.ipynb',\n",
       " 'OneDrive',\n",
       " 'pandas_matplotlib_statistics_practise (1).ipynb',\n",
       " 'PCA-checkpoint.ipynb',\n",
       " 'pipwin',\n",
       " 'Price of flights.csv',\n",
       " 'Prices of flights',\n",
       " 'Printers Ratings and Reviews final.csv',\n",
       " 'PrintHood',\n",
       " 'Python Revision 31 oct.ipynb',\n",
       " 'pythonclass3 (1).ipynb',\n",
       " 'Pythonclass3range-Copy1.ipynb',\n",
       " 'Pythonclass3range.ipynb',\n",
       " 'pythonclass4 (1).ipynb',\n",
       " 'Pythonclass5_loops (1).ipynb',\n",
       " 'Pythonclass6_loop_module_class (1).ipynb',\n",
       " 'PythonDSCLASS2-Copy1 (1).ipynb',\n",
       " 'PythonDSCLASS2.ipynb',\n",
       " 'randomstate.PNG',\n",
       " 'Rating Prediction Model - NLP _FR_JIJIN P-Copy1.ipynb',\n",
       " 'Rating Prediction Model - NLP _FR_JIJIN P.ipynb',\n",
       " 'Ratings and Reviews.csv',\n",
       " 'Recent',\n",
       " 'rfr_housing_saleprice.obj',\n",
       " 'rfr_hyp_flightprice_prediction.obj',\n",
       " 'rf_micro_credit_prediction.obj',\n",
       " 'Sample TI part 1.csv',\n",
       " 'Sample TI part 1_a.csv',\n",
       " 'Sample TI part 1_a_a.csv',\n",
       " 'Sample TI part 1_b.csv',\n",
       " 'Sample TI part 1_b_b.csv',\n",
       " 'Sample TI part 1_c.csv',\n",
       " 'Sample TI part 2.csv',\n",
       " 'Sample TI part 2_a.csv',\n",
       " 'Sample TI part 2_b.csv',\n",
       " 'Sample TI part 2_c.csv',\n",
       " 'Sample TI part 3.csv',\n",
       " 'Sample TI part 3_a.csv',\n",
       " 'Sample TI part 4.csv',\n",
       " 'Sample TI part 4_a.csv',\n",
       " 'Sample TI part 5.csv',\n",
       " 'Sample TI part 5_a.csv',\n",
       " 'Sample TI part 6.csv',\n",
       " 'sample.txt',\n",
       " 'Saved Games',\n",
       " 'Searches',\n",
       " 'SendTo',\n",
       " 'service.csv',\n",
       " 'SF_11th Feb_24th Feb.ipynb',\n",
       " 'Snap overpass model.ipynb',\n",
       " 'source',\n",
       " 'Spam Mail Detection Model Project NLP_JP.ipynb',\n",
       " 'spam.csv',\n",
       " 'Speech to Text Application Project _ NLP_JP.ipynb',\n",
       " 'SQLLITE With Python.ipynb',\n",
       " 'Start Menu',\n",
       " 'Statistics_practise (1).ipynb',\n",
       " 'story.doc',\n",
       " 'teleCust1000t.csv',\n",
       " 'Temperature Prediction_Project9_JIJIN_DT-checkpoint.ipynb',\n",
       " 'Templates',\n",
       " 'test.csv',\n",
       " 'test.wav',\n",
       " 'test1.wav',\n",
       " 'testfile.csv',\n",
       " 'The Economic times_Part 1-Copy3.ipynb',\n",
       " 'The Economic times_Part 1_Program_sample_JIJINP.ipynb',\n",
       " 'The Economic times_Part 2.ipynb',\n",
       " 'The Economic times_Part 3.ipynb',\n",
       " 'The hindu_oct2015_part1.ipynb',\n",
       " 'The hindu_oct2015_part2.ipynb',\n",
       " 'The hindu_oct2015_part3.ipynb',\n",
       " 'The hindu_oct2015_part4.ipynb',\n",
       " 'The hindu_oct2015_part5.ipynb',\n",
       " 'The hindu_Part 3.ipynb',\n",
       " 'The hindu_Part 4.ipynb',\n",
       " 'The hindu_Part 5.ipynb',\n",
       " 'Times of india-Copy1.ipynb',\n",
       " 'Times of india-Copy2.ipynb',\n",
       " 'Times of india-Copy3.ipynb',\n",
       " 'Times of india-Part 2-feb 6-10-Copy1.ipynb',\n",
       " 'Times of india-Part 2-feb 6-10-Copy2.ipynb',\n",
       " 'Times of india-Part 2-feb 6-10-Copy3.ipynb',\n",
       " 'Times of india-Part 2-feb 6-10.ipynb',\n",
       " 'Times of india-Part 3 -feb 11-15-Copy1.ipynb',\n",
       " 'Times of india-Part 3 -feb 11-15-Copy2.ipynb',\n",
       " 'Times of india-Part 3 -feb 11-15-Copy3.ipynb',\n",
       " 'Times of india-Part 3 -feb 11-15.ipynb',\n",
       " 'Times of india-Part 4-feb 16-20-Copy1.ipynb',\n",
       " 'Times of india-Part 4-feb 16-20-Copy2.ipynb',\n",
       " 'Times of india-Part 4-feb 16-20-Copy3.ipynb',\n",
       " 'Times of india-Part 4-feb 16-20.ipynb',\n",
       " 'Times of india-Part 5-feb 21-25.ipynb',\n",
       " 'Times of india-Part 6-feb 26-28.ipynb',\n",
       " 'Times of india-Part1-feb1-5-Copy1.ipynb',\n",
       " 'Times of india-Part1-feb1-5-Copy2.ipynb',\n",
       " 'Times of india-Part1-feb1-5-Copy3.ipynb',\n",
       " 'Times of india-Part1-feb1-5_code_JIJIN P_Sample.ipynb',\n",
       " 'Times of india.ipynb',\n",
       " 'TOI news feb2018.csv',\n",
       " 'train.csv',\n",
       " 'Untitled (1).ipynb',\n",
       " 'Untitled.ipynb',\n",
       " 'Untitled1.ipynb',\n",
       " 'Untitled10.ipynb',\n",
       " 'Untitled11.ipynb',\n",
       " 'Untitled12.ipynb',\n",
       " 'Untitled2.ipynb',\n",
       " 'Untitled3.ipynb',\n",
       " 'Untitled4.ipynb',\n",
       " 'Untitled5.ipynb',\n",
       " 'Untitled6.ipynb',\n",
       " 'Untitled7.ipynb',\n",
       " 'Untitled8.ipynb',\n",
       " 'Untitled9.ipynb',\n",
       " 'Videos',\n",
       " 'WA_Fn-UseC_-HR-Employee-Attrition.csv',\n",
       " 'web scraping 20000 reviews from amazon-Copy2.ipynb',\n",
       " 'web scraping 20000 reviews from amazon-Copy3.ipynb',\n",
       " 'web scraping 20000 reviews from amazon-Headphones.ipynb',\n",
       " 'web scraping 20000 reviews from amazon-Home theater.ipynb',\n",
       " 'web scraping 20000 reviews from amazon-laptops.ipynb',\n",
       " 'web scraping 20000 reviews from amazon-Monitors.ipynb',\n",
       " 'web scraping 20000 reviews from amazon-Phones.ipynb',\n",
       " 'web scraping 20000 reviews from amazon-Printers.ipynb',\n",
       " 'web scraping 20000 reviews from amazon-Professional Cameras.ipynb',\n",
       " 'web scraping 20000 reviews from amazon-Router.ipynb',\n",
       " 'web scraping 20000 reviews from amazon-smart watches.ipynb',\n",
       " 'web scraping 20000 reviews from amazon.ipynb',\n",
       " 'web_scraping_assignment1_solutions.ipynb',\n",
       " 'web_scraping_assignment2_solutions.ipynb',\n",
       " 'web_scrapping_assignment3_solutions.ipynb',\n",
       " 'web_scrapping_assignment4_solutions (1).ipynb',\n",
       " 'winequality-red.csv',\n",
       " 'world_happiness.ipynb',\n",
       " 'world_happiness_project1.ipynb']"
      ]
     },
     "execution_count": 433,
     "metadata": {},
     "output_type": "execute_result"
    }
   ],
   "source": [
    "os.listdir()"
   ]
  },
  {
   "cell_type": "code",
   "execution_count": 434,
   "id": "a62367ff",
   "metadata": {},
   "outputs": [],
   "source": [
    "import math"
   ]
  },
  {
   "cell_type": "code",
   "execution_count": 435,
   "id": "d3e430c1",
   "metadata": {},
   "outputs": [
    {
     "data": {
      "text/plain": [
       "3.141592653589793"
      ]
     },
     "execution_count": 435,
     "metadata": {},
     "output_type": "execute_result"
    }
   ],
   "source": [
    "math.pi"
   ]
  },
  {
   "cell_type": "code",
   "execution_count": 436,
   "id": "8f0903ca",
   "metadata": {},
   "outputs": [
    {
     "data": {
      "text/plain": [
       "4.0"
      ]
     },
     "execution_count": 436,
     "metadata": {},
     "output_type": "execute_result"
    }
   ],
   "source": [
    "math.sqrt(16)"
   ]
  },
  {
   "cell_type": "code",
   "execution_count": 437,
   "id": "b433a5b3",
   "metadata": {},
   "outputs": [
    {
     "data": {
      "text/plain": [
       "5.0"
      ]
     },
     "execution_count": 437,
     "metadata": {},
     "output_type": "execute_result"
    }
   ],
   "source": [
    "math.sqrt(25)"
   ]
  },
  {
   "cell_type": "code",
   "execution_count": 438,
   "id": "ffc7fb9f",
   "metadata": {},
   "outputs": [
    {
     "data": {
      "text/plain": [
       "8.0"
      ]
     },
     "execution_count": 438,
     "metadata": {},
     "output_type": "execute_result"
    }
   ],
   "source": [
    "math.pow(2,3)"
   ]
  },
  {
   "cell_type": "code",
   "execution_count": 439,
   "id": "c4b1cf42",
   "metadata": {},
   "outputs": [],
   "source": [
    "import math as m"
   ]
  },
  {
   "cell_type": "code",
   "execution_count": 440,
   "id": "e36ca84d",
   "metadata": {},
   "outputs": [
    {
     "data": {
      "text/plain": [
       "3.141592653589793"
      ]
     },
     "execution_count": 440,
     "metadata": {},
     "output_type": "execute_result"
    }
   ],
   "source": [
    "m.pi"
   ]
  },
  {
   "cell_type": "code",
   "execution_count": 441,
   "id": "c8630481",
   "metadata": {},
   "outputs": [],
   "source": [
    "from math import pi"
   ]
  },
  {
   "cell_type": "code",
   "execution_count": 442,
   "id": "ba47acf9",
   "metadata": {},
   "outputs": [
    {
     "data": {
      "text/plain": [
       "3.141592653589793"
      ]
     },
     "execution_count": 442,
     "metadata": {},
     "output_type": "execute_result"
    }
   ],
   "source": [
    "pi"
   ]
  },
  {
   "cell_type": "markdown",
   "id": "ffd40fc4",
   "metadata": {},
   "source": [
    "# Python FILE I/O operation"
   ]
  },
  {
   "cell_type": "code",
   "execution_count": 450,
   "id": "b5c7c174",
   "metadata": {},
   "outputs": [],
   "source": [
    "savefile = open(\"C:\\\\user\\\\jijin\\\\ji.txt\",'w')"
   ]
  },
  {
   "cell_type": "code",
   "execution_count": 452,
   "id": "c5152151",
   "metadata": {},
   "outputs": [
    {
     "data": {
      "text/plain": [
       "46"
      ]
     },
     "execution_count": 452,
     "metadata": {},
     "output_type": "execute_result"
    }
   ],
   "source": [
    "savefile.write(\"This is sample file for input output operation\")"
   ]
  },
  {
   "cell_type": "code",
   "execution_count": 453,
   "id": "4a8af577",
   "metadata": {},
   "outputs": [],
   "source": [
    "savefile.close()"
   ]
  },
  {
   "cell_type": "code",
   "execution_count": 467,
   "id": "9b820864",
   "metadata": {},
   "outputs": [],
   "source": [
    "readme = open(\"C:\\\\user\\\\jijin\\\\ji.txt\",'r')"
   ]
  },
  {
   "cell_type": "code",
   "execution_count": 464,
   "id": "542ce1fe",
   "metadata": {},
   "outputs": [
    {
     "data": {
      "text/plain": [
       "['This is sample file for input output operationThis is sample file for input output operation']"
      ]
     },
     "execution_count": 464,
     "metadata": {},
     "output_type": "execute_result"
    }
   ],
   "source": [
    "readme.readlines()"
   ]
  },
  {
   "cell_type": "code",
   "execution_count": 468,
   "id": "84c02004",
   "metadata": {},
   "outputs": [
    {
     "data": {
      "text/plain": [
       "'This is sample file for input output operationThis is sample file for input output operation'"
      ]
     },
     "execution_count": 468,
     "metadata": {},
     "output_type": "execute_result"
    }
   ],
   "source": [
    "readme.read()"
   ]
  },
  {
   "cell_type": "code",
   "execution_count": 469,
   "id": "a041da1a",
   "metadata": {},
   "outputs": [],
   "source": [
    "readme.close()"
   ]
  },
  {
   "cell_type": "code",
   "execution_count": 470,
   "id": "731e51a6",
   "metadata": {},
   "outputs": [
    {
     "data": {
      "text/plain": [
       "18"
      ]
     },
     "execution_count": 470,
     "metadata": {},
     "output_type": "execute_result"
    }
   ],
   "source": [
    "appendfile = open(\"C:\\\\user\\\\jijin\\\\ji.txt\",'a')\n",
    "appendfile.write(\"\\n My name is jijin\")"
   ]
  },
  {
   "cell_type": "code",
   "execution_count": 471,
   "id": "258c8b1a",
   "metadata": {},
   "outputs": [],
   "source": [
    "appendfile.close()"
   ]
  },
  {
   "cell_type": "code",
   "execution_count": 472,
   "id": "1507f984",
   "metadata": {},
   "outputs": [],
   "source": [
    "# Pickling and unpickling"
   ]
  },
  {
   "cell_type": "code",
   "execution_count": 473,
   "id": "b729d888",
   "metadata": {},
   "outputs": [],
   "source": [
    "flow = {1:'jasmine',2:'rose',3:'lily',4:'shoeflower'}"
   ]
  },
  {
   "cell_type": "code",
   "execution_count": 474,
   "id": "ac56202c",
   "metadata": {},
   "outputs": [],
   "source": [
    "filename = \"flowers\""
   ]
  },
  {
   "cell_type": "code",
   "execution_count": 475,
   "id": "5c5e6e44",
   "metadata": {},
   "outputs": [],
   "source": [
    "import pickle"
   ]
  },
  {
   "cell_type": "code",
   "execution_count": 476,
   "id": "c2813b1a",
   "metadata": {},
   "outputs": [],
   "source": [
    "outfile = open(filename,\"wb\")"
   ]
  },
  {
   "cell_type": "code",
   "execution_count": 478,
   "id": "9473f288",
   "metadata": {},
   "outputs": [],
   "source": [
    "pickle.dump(flow,outfile)"
   ]
  },
  {
   "cell_type": "code",
   "execution_count": 479,
   "id": "72456ea6",
   "metadata": {},
   "outputs": [],
   "source": [
    "outfile.close()"
   ]
  },
  {
   "cell_type": "code",
   "execution_count": 480,
   "id": "be9fea40",
   "metadata": {},
   "outputs": [],
   "source": [
    "# unpickling the file\n",
    "\n",
    "infile = open(filename,\"rb\")"
   ]
  },
  {
   "cell_type": "code",
   "execution_count": 481,
   "id": "4e1b45af",
   "metadata": {},
   "outputs": [
    {
     "data": {
      "text/plain": [
       "{1: 'jasmine', 2: 'rose', 3: 'lily', 4: 'shoeflower'}"
      ]
     },
     "execution_count": 481,
     "metadata": {},
     "output_type": "execute_result"
    }
   ],
   "source": [
    "pickle.load(infile)"
   ]
  },
  {
   "cell_type": "code",
   "execution_count": 482,
   "id": "a297f36c",
   "metadata": {},
   "outputs": [],
   "source": [
    "infile.close()"
   ]
  }
 ],
 "metadata": {
  "kernelspec": {
   "display_name": "Python 3",
   "language": "python",
   "name": "python3"
  },
  "language_info": {
   "codemirror_mode": {
    "name": "ipython",
    "version": 3
   },
   "file_extension": ".py",
   "mimetype": "text/x-python",
   "name": "python",
   "nbconvert_exporter": "python",
   "pygments_lexer": "ipython3",
   "version": "3.8.8"
  }
 },
 "nbformat": 4,
 "nbformat_minor": 5
}
